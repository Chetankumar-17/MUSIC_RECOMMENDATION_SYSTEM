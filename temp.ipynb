{
 "cells": [
  {
   "cell_type": "code",
   "execution_count": 39,
   "metadata": {},
   "outputs": [],
   "source": [
    "import pandas as pd"
   ]
  },
  {
   "cell_type": "code",
   "execution_count": 40,
   "metadata": {},
   "outputs": [],
   "source": [
    "df=pd.read_csv(\"songs.csv\")"
   ]
  },
  {
   "cell_type": "code",
   "execution_count": 41,
   "metadata": {},
   "outputs": [
    {
     "data": {
      "text/html": [
       "<div>\n",
       "<style scoped>\n",
       "    .dataframe tbody tr th:only-of-type {\n",
       "        vertical-align: middle;\n",
       "    }\n",
       "\n",
       "    .dataframe tbody tr th {\n",
       "        vertical-align: top;\n",
       "    }\n",
       "\n",
       "    .dataframe thead th {\n",
       "        text-align: right;\n",
       "    }\n",
       "</style>\n",
       "<table border=\"1\" class=\"dataframe\">\n",
       "  <thead>\n",
       "    <tr style=\"text-align: right;\">\n",
       "      <th></th>\n",
       "      <th>Song_name</th>\n",
       "      <th>Singer</th>\n",
       "      <th>Language</th>\n",
       "      <th>genre</th>\n",
       "    </tr>\n",
       "  </thead>\n",
       "  <tbody>\n",
       "    <tr>\n",
       "      <th>0</th>\n",
       "      <td>Poomala</td>\n",
       "      <td>K J Yesudas</td>\n",
       "      <td>Telugu</td>\n",
       "      <td>Classical</td>\n",
       "    </tr>\n",
       "    <tr>\n",
       "      <th>1</th>\n",
       "      <td>Jimmy Jimmy Jimmy Aaja</td>\n",
       "      <td>Parvati Khan</td>\n",
       "      <td>Hindi</td>\n",
       "      <td>Folk</td>\n",
       "    </tr>\n",
       "    <tr>\n",
       "      <th>2</th>\n",
       "      <td>Jagave Ondu Ranaranga</td>\n",
       "      <td>Dr. Rajkumar</td>\n",
       "      <td>Kannada</td>\n",
       "      <td>Romantic</td>\n",
       "    </tr>\n",
       "    <tr>\n",
       "      <th>3</th>\n",
       "      <td>Nee Mudida Malliga</td>\n",
       "      <td>P. Susheela|P.B. Sreenivas</td>\n",
       "      <td>Kannada</td>\n",
       "      <td>Hindi</td>\n",
       "    </tr>\n",
       "    <tr>\n",
       "      <th>4</th>\n",
       "      <td>Jayathe Jayathe</td>\n",
       "      <td>Ambar Kumar|Manna Dey|Krishna Kalle</td>\n",
       "      <td>Kannada</td>\n",
       "      <td>Kannada</td>\n",
       "    </tr>\n",
       "  </tbody>\n",
       "</table>\n",
       "</div>"
      ],
      "text/plain": [
       "                Song_name                               Singer Language  \\\n",
       "0                 Poomala                          K J Yesudas   Telugu   \n",
       "1  Jimmy Jimmy Jimmy Aaja                         Parvati Khan    Hindi   \n",
       "2   Jagave Ondu Ranaranga                         Dr. Rajkumar  Kannada   \n",
       "3      Nee Mudida Malliga           P. Susheela|P.B. Sreenivas  Kannada   \n",
       "4         Jayathe Jayathe  Ambar Kumar|Manna Dey|Krishna Kalle  Kannada   \n",
       "\n",
       "       genre  \n",
       "0  Classical  \n",
       "1       Folk  \n",
       "2   Romantic  \n",
       "3      Hindi  \n",
       "4    Kannada  "
      ]
     },
     "execution_count": 41,
     "metadata": {},
     "output_type": "execute_result"
    }
   ],
   "source": [
    "df.head()"
   ]
  },
  {
   "cell_type": "code",
   "execution_count": null,
   "metadata": {},
   "outputs": [],
   "source": []
  },
  {
   "cell_type": "code",
   "execution_count": 42,
   "metadata": {},
   "outputs": [
    {
     "data": {
      "text/html": [
       "<div>\n",
       "<style scoped>\n",
       "    .dataframe tbody tr th:only-of-type {\n",
       "        vertical-align: middle;\n",
       "    }\n",
       "\n",
       "    .dataframe tbody tr th {\n",
       "        vertical-align: top;\n",
       "    }\n",
       "\n",
       "    .dataframe thead th {\n",
       "        text-align: right;\n",
       "    }\n",
       "</style>\n",
       "<table border=\"1\" class=\"dataframe\">\n",
       "  <thead>\n",
       "    <tr style=\"text-align: right;\">\n",
       "      <th></th>\n",
       "      <th>Song_name</th>\n",
       "      <th>Singer</th>\n",
       "      <th>Language</th>\n",
       "      <th>genre</th>\n",
       "    </tr>\n",
       "  </thead>\n",
       "  <tbody>\n",
       "    <tr>\n",
       "      <th>0</th>\n",
       "      <td>Poomala</td>\n",
       "      <td>K J Yesudas</td>\n",
       "      <td>Telugu</td>\n",
       "      <td>Classical</td>\n",
       "    </tr>\n",
       "    <tr>\n",
       "      <th>1</th>\n",
       "      <td>Jimmy Jimmy Jimmy Aaja</td>\n",
       "      <td>Parvati Khan</td>\n",
       "      <td>Hindi</td>\n",
       "      <td>Folk</td>\n",
       "    </tr>\n",
       "    <tr>\n",
       "      <th>2</th>\n",
       "      <td>Jagave Ondu Ranaranga</td>\n",
       "      <td>Dr. Rajkumar</td>\n",
       "      <td>Kannada</td>\n",
       "      <td>Romantic</td>\n",
       "    </tr>\n",
       "    <tr>\n",
       "      <th>3</th>\n",
       "      <td>Nee Mudida Malliga</td>\n",
       "      <td>P. Susheela|P.B. Sreenivas</td>\n",
       "      <td>Kannada</td>\n",
       "      <td>Hindi</td>\n",
       "    </tr>\n",
       "    <tr>\n",
       "      <th>4</th>\n",
       "      <td>Jayathe Jayathe</td>\n",
       "      <td>Ambar Kumar|Manna Dey|Krishna Kalle</td>\n",
       "      <td>Kannada</td>\n",
       "      <td>Kannada</td>\n",
       "    </tr>\n",
       "  </tbody>\n",
       "</table>\n",
       "</div>"
      ],
      "text/plain": [
       "                Song_name                               Singer Language  \\\n",
       "0                 Poomala                          K J Yesudas   Telugu   \n",
       "1  Jimmy Jimmy Jimmy Aaja                         Parvati Khan    Hindi   \n",
       "2   Jagave Ondu Ranaranga                         Dr. Rajkumar  Kannada   \n",
       "3      Nee Mudida Malliga           P. Susheela|P.B. Sreenivas  Kannada   \n",
       "4         Jayathe Jayathe  Ambar Kumar|Manna Dey|Krishna Kalle  Kannada   \n",
       "\n",
       "       genre  \n",
       "0  Classical  \n",
       "1       Folk  \n",
       "2   Romantic  \n",
       "3      Hindi  \n",
       "4    Kannada  "
      ]
     },
     "execution_count": 42,
     "metadata": {},
     "output_type": "execute_result"
    }
   ],
   "source": [
    "df.head()"
   ]
  },
  {
   "cell_type": "code",
   "execution_count": 43,
   "metadata": {},
   "outputs": [
    {
     "data": {
      "text/plain": [
       "(1000, 4)"
      ]
     },
     "execution_count": 43,
     "metadata": {},
     "output_type": "execute_result"
    }
   ],
   "source": [
    "df.shape"
   ]
  },
  {
   "cell_type": "markdown",
   "metadata": {},
   "source": []
  },
  {
   "cell_type": "code",
   "execution_count": 44,
   "metadata": {},
   "outputs": [],
   "source": [
    "genres = [\n",
    "     'Classical', 'Folk', 'Romantic', 'Hindi','Kannada','Telugu','Devotional', 'Melody','Happy',  'Dance', 'Trance', \n",
    "     'Bhajan', 'Regional', 'Patriotic', 'Sad', 'Inspirational'\n",
    "]"
   ]
  },
  {
   "cell_type": "code",
   "execution_count": 45,
   "metadata": {},
   "outputs": [],
   "source": [
    "genres_repeated = genres * (len(df) // len(genres)) + genres[:len(df) % len(genres)]\n",
    "\n",
    "# Add the 'genre' column to the DataFrame\n",
    "df['genre'] = genres_repeated\n",
    "\n",
    "# Save the updated DataFrame with the 'genre' column to a new CSV\n",
    "df.to_csv(\"songs.csv\", index=False)\n"
   ]
  },
  {
   "cell_type": "code",
   "execution_count": 46,
   "metadata": {},
   "outputs": [
    {
     "data": {
      "text/html": [
       "<div>\n",
       "<style scoped>\n",
       "    .dataframe tbody tr th:only-of-type {\n",
       "        vertical-align: middle;\n",
       "    }\n",
       "\n",
       "    .dataframe tbody tr th {\n",
       "        vertical-align: top;\n",
       "    }\n",
       "\n",
       "    .dataframe thead th {\n",
       "        text-align: right;\n",
       "    }\n",
       "</style>\n",
       "<table border=\"1\" class=\"dataframe\">\n",
       "  <thead>\n",
       "    <tr style=\"text-align: right;\">\n",
       "      <th></th>\n",
       "      <th>Song_name</th>\n",
       "      <th>Singer</th>\n",
       "      <th>Language</th>\n",
       "      <th>genre</th>\n",
       "    </tr>\n",
       "  </thead>\n",
       "  <tbody>\n",
       "    <tr>\n",
       "      <th>0</th>\n",
       "      <td>Poomala</td>\n",
       "      <td>K J Yesudas</td>\n",
       "      <td>Telugu</td>\n",
       "      <td>Classical</td>\n",
       "    </tr>\n",
       "    <tr>\n",
       "      <th>1</th>\n",
       "      <td>Jimmy Jimmy Jimmy Aaja</td>\n",
       "      <td>Parvati Khan</td>\n",
       "      <td>Hindi</td>\n",
       "      <td>Folk</td>\n",
       "    </tr>\n",
       "    <tr>\n",
       "      <th>2</th>\n",
       "      <td>Jagave Ondu Ranaranga</td>\n",
       "      <td>Dr. Rajkumar</td>\n",
       "      <td>Kannada</td>\n",
       "      <td>Romantic</td>\n",
       "    </tr>\n",
       "    <tr>\n",
       "      <th>3</th>\n",
       "      <td>Nee Mudida Malliga</td>\n",
       "      <td>P. Susheela|P.B. Sreenivas</td>\n",
       "      <td>Kannada</td>\n",
       "      <td>Hindi</td>\n",
       "    </tr>\n",
       "    <tr>\n",
       "      <th>4</th>\n",
       "      <td>Jayathe Jayathe</td>\n",
       "      <td>Ambar Kumar|Manna Dey|Krishna Kalle</td>\n",
       "      <td>Kannada</td>\n",
       "      <td>Kannada</td>\n",
       "    </tr>\n",
       "  </tbody>\n",
       "</table>\n",
       "</div>"
      ],
      "text/plain": [
       "                Song_name                               Singer Language  \\\n",
       "0                 Poomala                          K J Yesudas   Telugu   \n",
       "1  Jimmy Jimmy Jimmy Aaja                         Parvati Khan    Hindi   \n",
       "2   Jagave Ondu Ranaranga                         Dr. Rajkumar  Kannada   \n",
       "3      Nee Mudida Malliga           P. Susheela|P.B. Sreenivas  Kannada   \n",
       "4         Jayathe Jayathe  Ambar Kumar|Manna Dey|Krishna Kalle  Kannada   \n",
       "\n",
       "       genre  \n",
       "0  Classical  \n",
       "1       Folk  \n",
       "2   Romantic  \n",
       "3      Hindi  \n",
       "4    Kannada  "
      ]
     },
     "execution_count": 46,
     "metadata": {},
     "output_type": "execute_result"
    }
   ],
   "source": [
    "df.head()"
   ]
  },
  {
   "cell_type": "code",
   "execution_count": 47,
   "metadata": {},
   "outputs": [
    {
     "data": {
      "text/html": [
       "<div>\n",
       "<style scoped>\n",
       "    .dataframe tbody tr th:only-of-type {\n",
       "        vertical-align: middle;\n",
       "    }\n",
       "\n",
       "    .dataframe tbody tr th {\n",
       "        vertical-align: top;\n",
       "    }\n",
       "\n",
       "    .dataframe thead th {\n",
       "        text-align: right;\n",
       "    }\n",
       "</style>\n",
       "<table border=\"1\" class=\"dataframe\">\n",
       "  <thead>\n",
       "    <tr style=\"text-align: right;\">\n",
       "      <th></th>\n",
       "      <th>Song_name</th>\n",
       "      <th>Singer</th>\n",
       "      <th>Language</th>\n",
       "      <th>genre</th>\n",
       "    </tr>\n",
       "  </thead>\n",
       "  <tbody>\n",
       "    <tr>\n",
       "      <th>995</th>\n",
       "      <td>Vedam Anuvanuvuna</td>\n",
       "      <td>S. P. Balasubrahmanyam|S. P. Sailaja</td>\n",
       "      <td>Telugu</td>\n",
       "      <td>Hindi</td>\n",
       "    </tr>\n",
       "    <tr>\n",
       "      <th>996</th>\n",
       "      <td>Tumse Milkar Na Jane</td>\n",
       "      <td>Lata Mangeshkar|Shabbir Kumar</td>\n",
       "      <td>Hindi</td>\n",
       "      <td>Kannada</td>\n",
       "    </tr>\n",
       "    <tr>\n",
       "      <th>997</th>\n",
       "      <td>Malenaada Henna</td>\n",
       "      <td>S. Janaki|P.B. Sreenivas</td>\n",
       "      <td>Kannada</td>\n",
       "      <td>Telugu</td>\n",
       "    </tr>\n",
       "    <tr>\n",
       "      <th>998</th>\n",
       "      <td>Nannu Bilachithiva</td>\n",
       "      <td>B. Vasantha|Chorus</td>\n",
       "      <td>Telugu</td>\n",
       "      <td>Devotional</td>\n",
       "    </tr>\n",
       "    <tr>\n",
       "      <th>999</th>\n",
       "      <td>Naguva Ninna Mogava Chenna</td>\n",
       "      <td>S. P. Balasubrahmanyam|P. Susheela</td>\n",
       "      <td>Kannada</td>\n",
       "      <td>Melody</td>\n",
       "    </tr>\n",
       "  </tbody>\n",
       "</table>\n",
       "</div>"
      ],
      "text/plain": [
       "                      Song_name                                Singer  \\\n",
       "995           Vedam Anuvanuvuna  S. P. Balasubrahmanyam|S. P. Sailaja   \n",
       "996        Tumse Milkar Na Jane         Lata Mangeshkar|Shabbir Kumar   \n",
       "997             Malenaada Henna              S. Janaki|P.B. Sreenivas   \n",
       "998          Nannu Bilachithiva                    B. Vasantha|Chorus   \n",
       "999  Naguva Ninna Mogava Chenna    S. P. Balasubrahmanyam|P. Susheela   \n",
       "\n",
       "    Language       genre  \n",
       "995   Telugu       Hindi  \n",
       "996    Hindi     Kannada  \n",
       "997  Kannada      Telugu  \n",
       "998   Telugu  Devotional  \n",
       "999  Kannada      Melody  "
      ]
     },
     "execution_count": 47,
     "metadata": {},
     "output_type": "execute_result"
    }
   ],
   "source": [
    "df.tail()"
   ]
  },
  {
   "cell_type": "code",
   "execution_count": 48,
   "metadata": {},
   "outputs": [
    {
     "data": {
      "text/html": [
       "<div>\n",
       "<style scoped>\n",
       "    .dataframe tbody tr th:only-of-type {\n",
       "        vertical-align: middle;\n",
       "    }\n",
       "\n",
       "    .dataframe tbody tr th {\n",
       "        vertical-align: top;\n",
       "    }\n",
       "\n",
       "    .dataframe thead th {\n",
       "        text-align: right;\n",
       "    }\n",
       "</style>\n",
       "<table border=\"1\" class=\"dataframe\">\n",
       "  <thead>\n",
       "    <tr style=\"text-align: right;\">\n",
       "      <th></th>\n",
       "      <th>Song_name</th>\n",
       "      <th>Singer</th>\n",
       "      <th>Language</th>\n",
       "      <th>genre</th>\n",
       "    </tr>\n",
       "  </thead>\n",
       "  <tbody>\n",
       "    <tr>\n",
       "      <th>995</th>\n",
       "      <td>Vedam Anuvanuvuna</td>\n",
       "      <td>S. P. Balasubrahmanyam|S. P. Sailaja</td>\n",
       "      <td>Telugu</td>\n",
       "      <td>Hindi</td>\n",
       "    </tr>\n",
       "    <tr>\n",
       "      <th>996</th>\n",
       "      <td>Tumse Milkar Na Jane</td>\n",
       "      <td>Lata Mangeshkar|Shabbir Kumar</td>\n",
       "      <td>Hindi</td>\n",
       "      <td>Kannada</td>\n",
       "    </tr>\n",
       "    <tr>\n",
       "      <th>997</th>\n",
       "      <td>Malenaada Henna</td>\n",
       "      <td>S. Janaki|P.B. Sreenivas</td>\n",
       "      <td>Kannada</td>\n",
       "      <td>Telugu</td>\n",
       "    </tr>\n",
       "    <tr>\n",
       "      <th>998</th>\n",
       "      <td>Nannu Bilachithiva</td>\n",
       "      <td>B. Vasantha|Chorus</td>\n",
       "      <td>Telugu</td>\n",
       "      <td>Devotional</td>\n",
       "    </tr>\n",
       "    <tr>\n",
       "      <th>999</th>\n",
       "      <td>Naguva Ninna Mogava Chenna</td>\n",
       "      <td>S. P. Balasubrahmanyam|P. Susheela</td>\n",
       "      <td>Kannada</td>\n",
       "      <td>Melody</td>\n",
       "    </tr>\n",
       "  </tbody>\n",
       "</table>\n",
       "</div>"
      ],
      "text/plain": [
       "                      Song_name                                Singer  \\\n",
       "995           Vedam Anuvanuvuna  S. P. Balasubrahmanyam|S. P. Sailaja   \n",
       "996        Tumse Milkar Na Jane         Lata Mangeshkar|Shabbir Kumar   \n",
       "997             Malenaada Henna              S. Janaki|P.B. Sreenivas   \n",
       "998          Nannu Bilachithiva                    B. Vasantha|Chorus   \n",
       "999  Naguva Ninna Mogava Chenna    S. P. Balasubrahmanyam|P. Susheela   \n",
       "\n",
       "    Language       genre  \n",
       "995   Telugu       Hindi  \n",
       "996    Hindi     Kannada  \n",
       "997  Kannada      Telugu  \n",
       "998   Telugu  Devotional  \n",
       "999  Kannada      Melody  "
      ]
     },
     "execution_count": 48,
     "metadata": {},
     "output_type": "execute_result"
    }
   ],
   "source": [
    "df.tail()\n"
   ]
  },
  {
   "cell_type": "code",
   "execution_count": 49,
   "metadata": {},
   "outputs": [],
   "source": [
    "df = df.loc[:, ~df.columns.str.contains('^Unnamed')]\n"
   ]
  },
  {
   "cell_type": "code",
   "execution_count": 50,
   "metadata": {},
   "outputs": [
    {
     "data": {
      "text/html": [
       "<div>\n",
       "<style scoped>\n",
       "    .dataframe tbody tr th:only-of-type {\n",
       "        vertical-align: middle;\n",
       "    }\n",
       "\n",
       "    .dataframe tbody tr th {\n",
       "        vertical-align: top;\n",
       "    }\n",
       "\n",
       "    .dataframe thead th {\n",
       "        text-align: right;\n",
       "    }\n",
       "</style>\n",
       "<table border=\"1\" class=\"dataframe\">\n",
       "  <thead>\n",
       "    <tr style=\"text-align: right;\">\n",
       "      <th></th>\n",
       "      <th>Song_name</th>\n",
       "      <th>Singer</th>\n",
       "      <th>Language</th>\n",
       "      <th>genre</th>\n",
       "    </tr>\n",
       "  </thead>\n",
       "  <tbody>\n",
       "    <tr>\n",
       "      <th>995</th>\n",
       "      <td>Vedam Anuvanuvuna</td>\n",
       "      <td>S. P. Balasubrahmanyam|S. P. Sailaja</td>\n",
       "      <td>Telugu</td>\n",
       "      <td>Hindi</td>\n",
       "    </tr>\n",
       "    <tr>\n",
       "      <th>996</th>\n",
       "      <td>Tumse Milkar Na Jane</td>\n",
       "      <td>Lata Mangeshkar|Shabbir Kumar</td>\n",
       "      <td>Hindi</td>\n",
       "      <td>Kannada</td>\n",
       "    </tr>\n",
       "    <tr>\n",
       "      <th>997</th>\n",
       "      <td>Malenaada Henna</td>\n",
       "      <td>S. Janaki|P.B. Sreenivas</td>\n",
       "      <td>Kannada</td>\n",
       "      <td>Telugu</td>\n",
       "    </tr>\n",
       "    <tr>\n",
       "      <th>998</th>\n",
       "      <td>Nannu Bilachithiva</td>\n",
       "      <td>B. Vasantha|Chorus</td>\n",
       "      <td>Telugu</td>\n",
       "      <td>Devotional</td>\n",
       "    </tr>\n",
       "    <tr>\n",
       "      <th>999</th>\n",
       "      <td>Naguva Ninna Mogava Chenna</td>\n",
       "      <td>S. P. Balasubrahmanyam|P. Susheela</td>\n",
       "      <td>Kannada</td>\n",
       "      <td>Melody</td>\n",
       "    </tr>\n",
       "  </tbody>\n",
       "</table>\n",
       "</div>"
      ],
      "text/plain": [
       "                      Song_name                                Singer  \\\n",
       "995           Vedam Anuvanuvuna  S. P. Balasubrahmanyam|S. P. Sailaja   \n",
       "996        Tumse Milkar Na Jane         Lata Mangeshkar|Shabbir Kumar   \n",
       "997             Malenaada Henna              S. Janaki|P.B. Sreenivas   \n",
       "998          Nannu Bilachithiva                    B. Vasantha|Chorus   \n",
       "999  Naguva Ninna Mogava Chenna    S. P. Balasubrahmanyam|P. Susheela   \n",
       "\n",
       "    Language       genre  \n",
       "995   Telugu       Hindi  \n",
       "996    Hindi     Kannada  \n",
       "997  Kannada      Telugu  \n",
       "998   Telugu  Devotional  \n",
       "999  Kannada      Melody  "
      ]
     },
     "execution_count": 50,
     "metadata": {},
     "output_type": "execute_result"
    }
   ],
   "source": [
    "df.tail()"
   ]
  },
  {
   "cell_type": "code",
   "execution_count": 51,
   "metadata": {},
   "outputs": [
    {
     "data": {
      "text/html": [
       "<div>\n",
       "<style scoped>\n",
       "    .dataframe tbody tr th:only-of-type {\n",
       "        vertical-align: middle;\n",
       "    }\n",
       "\n",
       "    .dataframe tbody tr th {\n",
       "        vertical-align: top;\n",
       "    }\n",
       "\n",
       "    .dataframe thead th {\n",
       "        text-align: right;\n",
       "    }\n",
       "</style>\n",
       "<table border=\"1\" class=\"dataframe\">\n",
       "  <thead>\n",
       "    <tr style=\"text-align: right;\">\n",
       "      <th></th>\n",
       "      <th>Song_name</th>\n",
       "      <th>Singer</th>\n",
       "      <th>Language</th>\n",
       "      <th>genre</th>\n",
       "    </tr>\n",
       "  </thead>\n",
       "  <tbody>\n",
       "    <tr>\n",
       "      <th>600</th>\n",
       "      <td>Onde Ondu Aaseyu</td>\n",
       "      <td>S. Janaki|S. P. Balasubrahmanyam</td>\n",
       "      <td>Kannada</td>\n",
       "      <td>Happy</td>\n",
       "    </tr>\n",
       "    <tr>\n",
       "      <th>601</th>\n",
       "      <td>Ninna Nanna</td>\n",
       "      <td>Dr. Rajkumar</td>\n",
       "      <td>Kannada</td>\n",
       "      <td>Dance</td>\n",
       "    </tr>\n",
       "    <tr>\n",
       "      <th>602</th>\n",
       "      <td>Naa Ninna Mareyalare</td>\n",
       "      <td>Dr. Rajkumar|Vani Jairam</td>\n",
       "      <td>Kannada</td>\n",
       "      <td>Trance</td>\n",
       "    </tr>\n",
       "    <tr>\n",
       "      <th>603</th>\n",
       "      <td>Ninna Kanda Nanna</td>\n",
       "      <td>S. Janaki|S. P. Balasubrahmanyam</td>\n",
       "      <td>Kannada</td>\n",
       "      <td>Bhajan</td>\n",
       "    </tr>\n",
       "    <tr>\n",
       "      <th>604</th>\n",
       "      <td>Main Shair To Nahin</td>\n",
       "      <td>Shailender Singh</td>\n",
       "      <td>Hindi</td>\n",
       "      <td>Regional</td>\n",
       "    </tr>\n",
       "    <tr>\n",
       "      <th>...</th>\n",
       "      <td>...</td>\n",
       "      <td>...</td>\n",
       "      <td>...</td>\n",
       "      <td>...</td>\n",
       "    </tr>\n",
       "    <tr>\n",
       "      <th>995</th>\n",
       "      <td>Vedam Anuvanuvuna</td>\n",
       "      <td>S. P. Balasubrahmanyam|S. P. Sailaja</td>\n",
       "      <td>Telugu</td>\n",
       "      <td>Hindi</td>\n",
       "    </tr>\n",
       "    <tr>\n",
       "      <th>996</th>\n",
       "      <td>Tumse Milkar Na Jane</td>\n",
       "      <td>Lata Mangeshkar|Shabbir Kumar</td>\n",
       "      <td>Hindi</td>\n",
       "      <td>Kannada</td>\n",
       "    </tr>\n",
       "    <tr>\n",
       "      <th>997</th>\n",
       "      <td>Malenaada Henna</td>\n",
       "      <td>S. Janaki|P.B. Sreenivas</td>\n",
       "      <td>Kannada</td>\n",
       "      <td>Telugu</td>\n",
       "    </tr>\n",
       "    <tr>\n",
       "      <th>998</th>\n",
       "      <td>Nannu Bilachithiva</td>\n",
       "      <td>B. Vasantha|Chorus</td>\n",
       "      <td>Telugu</td>\n",
       "      <td>Devotional</td>\n",
       "    </tr>\n",
       "    <tr>\n",
       "      <th>999</th>\n",
       "      <td>Naguva Ninna Mogava Chenna</td>\n",
       "      <td>S. P. Balasubrahmanyam|P. Susheela</td>\n",
       "      <td>Kannada</td>\n",
       "      <td>Melody</td>\n",
       "    </tr>\n",
       "  </tbody>\n",
       "</table>\n",
       "<p>400 rows × 4 columns</p>\n",
       "</div>"
      ],
      "text/plain": [
       "                      Song_name                                Singer  \\\n",
       "600            Onde Ondu Aaseyu      S. Janaki|S. P. Balasubrahmanyam   \n",
       "601                 Ninna Nanna                          Dr. Rajkumar   \n",
       "602        Naa Ninna Mareyalare              Dr. Rajkumar|Vani Jairam   \n",
       "603           Ninna Kanda Nanna      S. Janaki|S. P. Balasubrahmanyam   \n",
       "604         Main Shair To Nahin                      Shailender Singh   \n",
       "..                          ...                                   ...   \n",
       "995           Vedam Anuvanuvuna  S. P. Balasubrahmanyam|S. P. Sailaja   \n",
       "996        Tumse Milkar Na Jane         Lata Mangeshkar|Shabbir Kumar   \n",
       "997             Malenaada Henna              S. Janaki|P.B. Sreenivas   \n",
       "998          Nannu Bilachithiva                    B. Vasantha|Chorus   \n",
       "999  Naguva Ninna Mogava Chenna    S. P. Balasubrahmanyam|P. Susheela   \n",
       "\n",
       "    Language       genre  \n",
       "600  Kannada       Happy  \n",
       "601  Kannada       Dance  \n",
       "602  Kannada      Trance  \n",
       "603  Kannada      Bhajan  \n",
       "604    Hindi    Regional  \n",
       "..       ...         ...  \n",
       "995   Telugu       Hindi  \n",
       "996    Hindi     Kannada  \n",
       "997  Kannada      Telugu  \n",
       "998   Telugu  Devotional  \n",
       "999  Kannada      Melody  \n",
       "\n",
       "[400 rows x 4 columns]"
      ]
     },
     "execution_count": 51,
     "metadata": {},
     "output_type": "execute_result"
    }
   ],
   "source": [
    "df.tail(400)"
   ]
  },
  {
   "cell_type": "code",
   "execution_count": 52,
   "metadata": {},
   "outputs": [
    {
     "data": {
      "text/html": [
       "<div>\n",
       "<style scoped>\n",
       "    .dataframe tbody tr th:only-of-type {\n",
       "        vertical-align: middle;\n",
       "    }\n",
       "\n",
       "    .dataframe tbody tr th {\n",
       "        vertical-align: top;\n",
       "    }\n",
       "\n",
       "    .dataframe thead th {\n",
       "        text-align: right;\n",
       "    }\n",
       "</style>\n",
       "<table border=\"1\" class=\"dataframe\">\n",
       "  <thead>\n",
       "    <tr style=\"text-align: right;\">\n",
       "      <th></th>\n",
       "      <th>Song_name</th>\n",
       "      <th>Singer</th>\n",
       "      <th>Language</th>\n",
       "      <th>genre</th>\n",
       "    </tr>\n",
       "  </thead>\n",
       "  <tbody>\n",
       "    <tr>\n",
       "      <th>0</th>\n",
       "      <td>Poomala</td>\n",
       "      <td>K J Yesudas</td>\n",
       "      <td>Telugu</td>\n",
       "      <td>Classical</td>\n",
       "    </tr>\n",
       "    <tr>\n",
       "      <th>1</th>\n",
       "      <td>Jimmy Jimmy Jimmy Aaja</td>\n",
       "      <td>Parvati Khan</td>\n",
       "      <td>Hindi</td>\n",
       "      <td>Folk</td>\n",
       "    </tr>\n",
       "    <tr>\n",
       "      <th>2</th>\n",
       "      <td>Jagave Ondu Ranaranga</td>\n",
       "      <td>Dr. Rajkumar</td>\n",
       "      <td>Kannada</td>\n",
       "      <td>Romantic</td>\n",
       "    </tr>\n",
       "    <tr>\n",
       "      <th>3</th>\n",
       "      <td>Nee Mudida Malliga</td>\n",
       "      <td>P. Susheela|P.B. Sreenivas</td>\n",
       "      <td>Kannada</td>\n",
       "      <td>Hindi</td>\n",
       "    </tr>\n",
       "    <tr>\n",
       "      <th>4</th>\n",
       "      <td>Jayathe Jayathe</td>\n",
       "      <td>Ambar Kumar|Manna Dey|Krishna Kalle</td>\n",
       "      <td>Kannada</td>\n",
       "      <td>Kannada</td>\n",
       "    </tr>\n",
       "    <tr>\n",
       "      <th>...</th>\n",
       "      <td>...</td>\n",
       "      <td>...</td>\n",
       "      <td>...</td>\n",
       "      <td>...</td>\n",
       "    </tr>\n",
       "    <tr>\n",
       "      <th>95</th>\n",
       "      <td>Mysooru Dasara</td>\n",
       "      <td>P.B. Sreenivas</td>\n",
       "      <td>Kannada</td>\n",
       "      <td>Inspirational</td>\n",
       "    </tr>\n",
       "    <tr>\n",
       "      <th>96</th>\n",
       "      <td>Tumne Mujhe Dekha Hokar Meherban</td>\n",
       "      <td>Mohammed Rafi</td>\n",
       "      <td>Hindi</td>\n",
       "      <td>Classical</td>\n",
       "    </tr>\n",
       "    <tr>\n",
       "      <th>97</th>\n",
       "      <td>Emo Emo</td>\n",
       "      <td>Ghanatasala|S. Janaki</td>\n",
       "      <td>Telugu</td>\n",
       "      <td>Folk</td>\n",
       "    </tr>\n",
       "    <tr>\n",
       "      <th>98</th>\n",
       "      <td>Oka Brundavanam</td>\n",
       "      <td>Vani Jairam</td>\n",
       "      <td>Telugu</td>\n",
       "      <td>Romantic</td>\n",
       "    </tr>\n",
       "    <tr>\n",
       "      <th>99</th>\n",
       "      <td>Chitthi Aai Hai</td>\n",
       "      <td>Pankaj Udhas</td>\n",
       "      <td>Hindi</td>\n",
       "      <td>Hindi</td>\n",
       "    </tr>\n",
       "  </tbody>\n",
       "</table>\n",
       "<p>100 rows × 4 columns</p>\n",
       "</div>"
      ],
      "text/plain": [
       "                           Song_name                               Singer  \\\n",
       "0                            Poomala                          K J Yesudas   \n",
       "1             Jimmy Jimmy Jimmy Aaja                         Parvati Khan   \n",
       "2              Jagave Ondu Ranaranga                         Dr. Rajkumar   \n",
       "3                 Nee Mudida Malliga           P. Susheela|P.B. Sreenivas   \n",
       "4                    Jayathe Jayathe  Ambar Kumar|Manna Dey|Krishna Kalle   \n",
       "..                               ...                                  ...   \n",
       "95                    Mysooru Dasara                       P.B. Sreenivas   \n",
       "96  Tumne Mujhe Dekha Hokar Meherban                        Mohammed Rafi   \n",
       "97                           Emo Emo                Ghanatasala|S. Janaki   \n",
       "98                   Oka Brundavanam                          Vani Jairam   \n",
       "99                   Chitthi Aai Hai                         Pankaj Udhas   \n",
       "\n",
       "   Language          genre  \n",
       "0    Telugu      Classical  \n",
       "1     Hindi           Folk  \n",
       "2   Kannada       Romantic  \n",
       "3   Kannada          Hindi  \n",
       "4   Kannada        Kannada  \n",
       "..      ...            ...  \n",
       "95  Kannada  Inspirational  \n",
       "96    Hindi      Classical  \n",
       "97   Telugu           Folk  \n",
       "98   Telugu       Romantic  \n",
       "99    Hindi          Hindi  \n",
       "\n",
       "[100 rows x 4 columns]"
      ]
     },
     "execution_count": 52,
     "metadata": {},
     "output_type": "execute_result"
    }
   ],
   "source": [
    "df.head(100)"
   ]
  },
  {
   "cell_type": "code",
   "execution_count": 53,
   "metadata": {},
   "outputs": [
    {
     "data": {
      "text/plain": [
       "(1000, 4)"
      ]
     },
     "execution_count": 53,
     "metadata": {},
     "output_type": "execute_result"
    }
   ],
   "source": [
    "df.shape"
   ]
  },
  {
   "cell_type": "code",
   "execution_count": 54,
   "metadata": {},
   "outputs": [
    {
     "data": {
      "text/plain": [
       "Song_name    0\n",
       "Singer       0\n",
       "Language     0\n",
       "genre        0\n",
       "dtype: int64"
      ]
     },
     "execution_count": 54,
     "metadata": {},
     "output_type": "execute_result"
    }
   ],
   "source": [
    "df.isnull().sum()"
   ]
  },
  {
   "cell_type": "code",
   "execution_count": 55,
   "metadata": {},
   "outputs": [],
   "source": [
    "if 'link' in df.columns :\n",
    "    df = df.drop('link',axis=1)\n",
    "\n",
    "df = df.sample(1000).reset_index(drop=True)"
   ]
  },
  {
   "cell_type": "code",
   "execution_count": 56,
   "metadata": {},
   "outputs": [
    {
     "data": {
      "text/html": [
       "<div>\n",
       "<style scoped>\n",
       "    .dataframe tbody tr th:only-of-type {\n",
       "        vertical-align: middle;\n",
       "    }\n",
       "\n",
       "    .dataframe tbody tr th {\n",
       "        vertical-align: top;\n",
       "    }\n",
       "\n",
       "    .dataframe thead th {\n",
       "        text-align: right;\n",
       "    }\n",
       "</style>\n",
       "<table border=\"1\" class=\"dataframe\">\n",
       "  <thead>\n",
       "    <tr style=\"text-align: right;\">\n",
       "      <th></th>\n",
       "      <th>Song_name</th>\n",
       "      <th>Singer</th>\n",
       "      <th>Language</th>\n",
       "      <th>genre</th>\n",
       "    </tr>\n",
       "  </thead>\n",
       "  <tbody>\n",
       "    <tr>\n",
       "      <th>0</th>\n",
       "      <td>Jayathwadabhra</td>\n",
       "      <td>Ghanatasala</td>\n",
       "      <td>Telugu</td>\n",
       "      <td>Telugu</td>\n",
       "    </tr>\n",
       "    <tr>\n",
       "      <th>1</th>\n",
       "      <td>Ve Vela Gopemmala</td>\n",
       "      <td>S. P. Balasubrahmanyam|S. P. Sailaja</td>\n",
       "      <td>Telugu</td>\n",
       "      <td>Romantic</td>\n",
       "    </tr>\n",
       "    <tr>\n",
       "      <th>2</th>\n",
       "      <td>Ankhon Mein Kajal Hai</td>\n",
       "      <td>Kishore Kumar|Lata Mangeshkar</td>\n",
       "      <td>Hindi</td>\n",
       "      <td>Romantic</td>\n",
       "    </tr>\n",
       "    <tr>\n",
       "      <th>3</th>\n",
       "      <td>Chali Gali Kottindamma</td>\n",
       "      <td>S. P. Balasubrahmanyam|S. Janaki</td>\n",
       "      <td>Telugu</td>\n",
       "      <td>Hindi</td>\n",
       "    </tr>\n",
       "    <tr>\n",
       "      <th>4</th>\n",
       "      <td>Dharmam</td>\n",
       "      <td>S. P. Balasubrahmanyam|S. P. Sailaja</td>\n",
       "      <td>Telugu</td>\n",
       "      <td>Folk</td>\n",
       "    </tr>\n",
       "  </tbody>\n",
       "</table>\n",
       "</div>"
      ],
      "text/plain": [
       "                Song_name                                Singer Language  \\\n",
       "0          Jayathwadabhra                           Ghanatasala   Telugu   \n",
       "1       Ve Vela Gopemmala  S. P. Balasubrahmanyam|S. P. Sailaja   Telugu   \n",
       "2   Ankhon Mein Kajal Hai         Kishore Kumar|Lata Mangeshkar    Hindi   \n",
       "3  Chali Gali Kottindamma      S. P. Balasubrahmanyam|S. Janaki   Telugu   \n",
       "4                 Dharmam  S. P. Balasubrahmanyam|S. P. Sailaja   Telugu   \n",
       "\n",
       "      genre  \n",
       "0    Telugu  \n",
       "1  Romantic  \n",
       "2  Romantic  \n",
       "3     Hindi  \n",
       "4      Folk  "
      ]
     },
     "execution_count": 56,
     "metadata": {},
     "output_type": "execute_result"
    }
   ],
   "source": [
    "df.head()"
   ]
  },
  {
   "cell_type": "code",
   "execution_count": 57,
   "metadata": {},
   "outputs": [
    {
     "name": "stderr",
     "output_type": "stream",
     "text": [
      "[nltk_data] Downloading package punkt to\n",
      "[nltk_data]     C:\\Users\\chetan\\AppData\\Roaming\\nltk_data...\n",
      "[nltk_data]   Package punkt is already up-to-date!\n"
     ]
    },
    {
     "data": {
      "text/plain": [
       "True"
      ]
     },
     "execution_count": 57,
     "metadata": {},
     "output_type": "execute_result"
    }
   ],
   "source": [
    "import nltk\n",
    "from nltk.stem.porter import PorterStemmer\n",
    "nltk.download('punkt')"
   ]
  },
  {
   "cell_type": "code",
   "execution_count": 58,
   "metadata": {},
   "outputs": [],
   "source": [
    "st = PorterStemmer()"
   ]
  },
  {
   "cell_type": "code",
   "execution_count": 59,
   "metadata": {},
   "outputs": [],
   "source": [
    "def token(text):\n",
    "    tokens = nltk.word_tokenize(text)\n",
    "    tokens_list = [st.stem(w) for w in tokens]\n",
    "    return \" \".join(tokens_list)"
   ]
  },
  {
   "cell_type": "code",
   "execution_count": 60,
   "metadata": {},
   "outputs": [
    {
     "name": "stdout",
     "output_type": "stream",
     "text": [
      "bachna ae hasinon lo\n"
     ]
    }
   ],
   "source": [
    "print(token('Bachna Ae Hasinon Lo'))"
   ]
  },
  {
   "cell_type": "code",
   "execution_count": 61,
   "metadata": {},
   "outputs": [
    {
     "data": {
      "text/plain": [
       "0               jayathwadabhra\n",
       "1            ve vela gopemmala\n",
       "2        ankhon mein kajal hai\n",
       "3       chali gali kottindamma\n",
       "4                      dharmam\n",
       "                ...           \n",
       "995                maduv maduv\n",
       "996                 alli billi\n",
       "997           gangeya kareyali\n",
       "998           ragala pallakilo\n",
       "999    naanu yaaru yaava vooru\n",
       "Name: Song_name, Length: 1000, dtype: object"
      ]
     },
     "execution_count": 61,
     "metadata": {},
     "output_type": "execute_result"
    }
   ],
   "source": [
    "df['Song_name'].apply(lambda x: token(x))"
   ]
  },
  {
   "cell_type": "code",
   "execution_count": 62,
   "metadata": {},
   "outputs": [],
   "source": [
    "from sklearn.feature_extraction.text import TfidfVectorizer\n",
    "from sklearn.metrics.pairwise import cosine_similarity"
   ]
  },
  {
   "cell_type": "code",
   "execution_count": 63,
   "metadata": {},
   "outputs": [],
   "source": [
    "tfid = TfidfVectorizer(analyzer='word',stop_words = 'english')"
   ]
  },
  {
   "cell_type": "code",
   "execution_count": 64,
   "metadata": {},
   "outputs": [],
   "source": [
    "matrix = tfid.fit_transform(df['Song_name'])"
   ]
  },
  {
   "cell_type": "code",
   "execution_count": 65,
   "metadata": {},
   "outputs": [
    {
     "data": {
      "text/plain": [
       "<1000x1656 sparse matrix of type '<class 'numpy.float64'>'\n",
       "\twith 2755 stored elements in Compressed Sparse Row format>"
      ]
     },
     "execution_count": 65,
     "metadata": {},
     "output_type": "execute_result"
    }
   ],
   "source": [
    "matrix"
   ]
  },
  {
   "cell_type": "code",
   "execution_count": 66,
   "metadata": {},
   "outputs": [
    {
     "data": {
      "text/plain": [
       "array([[1., 0., 0., ..., 0., 0., 0.],\n",
       "       [0., 1., 0., ..., 0., 0., 0.],\n",
       "       [0., 0., 1., ..., 0., 0., 0.],\n",
       "       ...,\n",
       "       [0., 0., 0., ..., 1., 0., 0.],\n",
       "       [0., 0., 0., ..., 0., 1., 0.],\n",
       "       [0., 0., 0., ..., 0., 0., 1.]])"
      ]
     },
     "execution_count": 66,
     "metadata": {},
     "output_type": "execute_result"
    }
   ],
   "source": [
    "cosine_similarity(matrix)"
   ]
  },
  {
   "cell_type": "code",
   "execution_count": 67,
   "metadata": {},
   "outputs": [],
   "source": [
    "similar = cosine_similarity(matrix)"
   ]
  },
  {
   "cell_type": "code",
   "execution_count": 68,
   "metadata": {},
   "outputs": [
    {
     "data": {
      "text/plain": [
       "array([1., 0., 0., 0., 0., 0., 0., 0., 0., 0., 0., 0., 0., 0., 0., 0., 0.,\n",
       "       0., 0., 0., 0., 0., 0., 0., 0., 0., 0., 0., 0., 0., 0., 0., 0., 0.,\n",
       "       0., 0., 0., 0., 0., 0., 0., 0., 0., 0., 0., 0., 0., 0., 0., 0., 0.,\n",
       "       0., 0., 0., 0., 0., 0., 0., 0., 0., 0., 0., 0., 0., 0., 0., 0., 0.,\n",
       "       0., 0., 0., 0., 0., 0., 0., 0., 0., 0., 0., 0., 0., 0., 0., 0., 0.,\n",
       "       0., 0., 0., 0., 0., 0., 0., 0., 0., 0., 0., 0., 0., 0., 0., 0., 0.,\n",
       "       0., 0., 0., 0., 0., 0., 0., 0., 0., 0., 0., 0., 0., 0., 0., 0., 0.,\n",
       "       0., 0., 0., 0., 0., 0., 0., 0., 0., 0., 0., 0., 0., 0., 0., 0., 0.,\n",
       "       0., 0., 0., 0., 0., 0., 0., 0., 0., 0., 0., 0., 0., 0., 0., 0., 0.,\n",
       "       0., 0., 0., 0., 0., 0., 0., 0., 0., 0., 0., 0., 0., 0., 0., 0., 0.,\n",
       "       0., 0., 0., 0., 0., 0., 0., 0., 0., 0., 0., 0., 0., 0., 0., 0., 0.,\n",
       "       0., 0., 0., 0., 0., 0., 0., 0., 0., 0., 0., 0., 0., 0., 0., 0., 0.,\n",
       "       0., 0., 0., 0., 0., 0., 0., 0., 0., 0., 0., 0., 0., 0., 0., 0., 0.,\n",
       "       0., 0., 0., 0., 0., 0., 0., 0., 0., 0., 0., 0., 0., 0., 0., 0., 0.,\n",
       "       0., 0., 0., 0., 0., 0., 0., 0., 0., 0., 0., 0., 0., 0., 0., 0., 0.,\n",
       "       0., 0., 0., 0., 0., 0., 0., 0., 0., 0., 0., 0., 0., 0., 0., 0., 0.,\n",
       "       0., 0., 0., 0., 0., 0., 0., 0., 0., 0., 0., 0., 0., 0., 0., 0., 0.,\n",
       "       0., 0., 0., 0., 0., 0., 0., 0., 0., 0., 0., 0., 0., 0., 0., 0., 0.,\n",
       "       0., 0., 0., 0., 0., 0., 0., 0., 0., 0., 0., 0., 0., 0., 0., 0., 0.,\n",
       "       0., 0., 0., 0., 0., 0., 0., 0., 0., 0., 0., 0., 0., 0., 0., 0., 0.,\n",
       "       0., 0., 0., 0., 0., 0., 0., 0., 0., 0., 0., 0., 0., 0., 0., 0., 0.,\n",
       "       0., 0., 0., 0., 0., 0., 0., 0., 0., 0., 0., 0., 0., 0., 0., 0., 0.,\n",
       "       0., 0., 0., 0., 0., 0., 0., 0., 0., 0., 0., 0., 0., 0., 0., 0., 0.,\n",
       "       0., 0., 0., 0., 0., 0., 0., 0., 0., 0., 0., 0., 0., 0., 0., 0., 0.,\n",
       "       0., 0., 0., 0., 0., 0., 0., 0., 0., 0., 0., 0., 0., 0., 0., 0., 0.,\n",
       "       0., 0., 0., 0., 0., 0., 0., 0., 0., 0., 0., 0., 0., 0., 0., 0., 0.,\n",
       "       0., 0., 0., 0., 0., 0., 0., 0., 0., 0., 0., 0., 0., 0., 0., 0., 0.,\n",
       "       0., 0., 0., 0., 0., 0., 0., 0., 0., 0., 0., 0., 0., 0., 0., 0., 0.,\n",
       "       0., 0., 0., 0., 0., 0., 0., 0., 0., 0., 0., 0., 0., 0., 0., 0., 0.,\n",
       "       0., 0., 0., 0., 0., 0., 0., 0., 0., 0., 0., 0., 0., 0., 0., 0., 0.,\n",
       "       0., 0., 0., 0., 0., 0., 0., 0., 0., 0., 0., 0., 0., 0., 0., 0., 0.,\n",
       "       0., 0., 0., 0., 0., 0., 0., 0., 0., 0., 0., 0., 0., 0., 0., 0., 0.,\n",
       "       0., 0., 0., 0., 0., 0., 0., 0., 0., 0., 0., 0., 0., 0., 0., 0., 0.,\n",
       "       0., 0., 0., 0., 0., 0., 0., 0., 0., 0., 0., 0., 0., 0., 0., 0., 0.,\n",
       "       0., 0., 0., 0., 0., 0., 0., 0., 0., 0., 0., 0., 0., 0., 0., 0., 0.,\n",
       "       0., 0., 0., 0., 0., 0., 0., 0., 0., 0., 0., 0., 0., 0., 0., 0., 0.,\n",
       "       0., 0., 0., 0., 0., 0., 0., 0., 0., 0., 0., 0., 0., 0., 0., 0., 0.,\n",
       "       0., 0., 0., 0., 0., 0., 0., 0., 0., 0., 0., 0., 0., 0., 0., 0., 0.,\n",
       "       0., 0., 0., 0., 0., 0., 0., 0., 0., 0., 0., 0., 0., 0., 0., 0., 0.,\n",
       "       0., 0., 0., 0., 0., 0., 0., 0., 0., 0., 0., 0., 0., 0., 0., 0., 0.,\n",
       "       0., 0., 0., 0., 0., 0., 0., 0., 0., 0., 0., 0., 0., 0., 0., 0., 0.,\n",
       "       0., 0., 0., 0., 0., 0., 0., 0., 0., 0., 0., 0., 0., 0., 0., 0., 0.,\n",
       "       0., 0., 0., 0., 0., 0., 0., 0., 0., 0., 0., 0., 0., 0., 0., 0., 0.,\n",
       "       0., 0., 0., 0., 0., 0., 0., 0., 0., 0., 0., 0., 0., 0., 0., 0., 0.,\n",
       "       0., 0., 0., 0., 0., 0., 0., 0., 0., 0., 0., 0., 0., 0., 0., 0., 0.,\n",
       "       0., 0., 0., 0., 0., 0., 0., 0., 0., 0., 0., 0., 0., 0., 0., 0., 0.,\n",
       "       0., 0., 0., 0., 0., 0., 0., 0., 0., 0., 0., 0., 0., 0., 0., 0., 0.,\n",
       "       0., 0., 0., 0., 0., 0., 0., 0., 0., 0., 0., 0., 0., 0., 0., 0., 0.,\n",
       "       0., 0., 0., 0., 0., 0., 0., 0., 0., 0., 0., 0., 0., 0., 0., 0., 0.,\n",
       "       0., 0., 0., 0., 0., 0., 0., 0., 0., 0., 0., 0., 0., 0., 0., 0., 0.,\n",
       "       0., 0., 0., 0., 0., 0., 0., 0., 0., 0., 0., 0., 0., 0., 0., 0., 0.,\n",
       "       0., 0., 0., 0., 0., 0., 0., 0., 0., 0., 0., 0., 0., 0., 0., 0., 0.,\n",
       "       0., 0., 0., 0., 0., 0., 0., 0., 0., 0., 0., 0., 0., 0., 0., 0., 0.,\n",
       "       0., 0., 0., 0., 0., 0., 0., 0., 0., 0., 0., 0., 0., 0., 0., 0., 0.,\n",
       "       0., 0., 0., 0., 0., 0., 0., 0., 0., 0., 0., 0., 0., 0., 0., 0., 0.,\n",
       "       0., 0., 0., 0., 0., 0., 0., 0., 0., 0., 0., 0., 0., 0., 0., 0., 0.,\n",
       "       0., 0., 0., 0., 0., 0., 0., 0., 0., 0., 0., 0., 0., 0., 0., 0., 0.,\n",
       "       0., 0., 0., 0., 0., 0., 0., 0., 0., 0., 0., 0., 0., 0., 0., 0., 0.,\n",
       "       0., 0., 0., 0., 0., 0., 0., 0., 0., 0., 0., 0., 0., 0.])"
      ]
     },
     "execution_count": 68,
     "metadata": {},
     "output_type": "execute_result"
    }
   ],
   "source": [
    "similar[0]"
   ]
  },
  {
   "cell_type": "code",
   "execution_count": 69,
   "metadata": {},
   "outputs": [],
   "source": [
    "def recommend(Song_name):\n",
    "    if Song_name not in df[\"Song_name\"].values:\n",
    "        return f\"'{Song_name}' not found in the dataset. Please check the spelling or try another song.\"\n",
    "    \n",
    "    idx = df[df[\"Song_name\"] == Song_name].index[0]\n",
    "    distances = sorted(list(enumerate(similar[idx])), reverse=True, key=lambda x: x[1])\n",
    "    Song_name = []\n",
    "    for i in distances[1:5]:  # Get the top 4 recommendations (excluding the song itself)\n",
    "        Song_name.append(df.iloc[i[0]].Song_name)\n",
    "    return Song_name"
   ]
  },
  {
   "cell_type": "code",
   "execution_count": 70,
   "metadata": {},
   "outputs": [
    {
     "data": {
      "text/plain": [
       "\"'Truck' not found in the dataset. Please check the spelling or try another song.\""
      ]
     },
     "execution_count": 70,
     "metadata": {},
     "output_type": "execute_result"
    }
   ],
   "source": [
    "recommend('Truck')"
   ]
  },
  {
   "cell_type": "code",
   "execution_count": 71,
   "metadata": {},
   "outputs": [],
   "source": [
    "import pickle"
   ]
  },
  {
   "cell_type": "code",
   "execution_count": 72,
   "metadata": {},
   "outputs": [],
   "source": [
    "pickle.dump(similar,open(\"similarity\",\"wb\"))"
   ]
  },
  {
   "cell_type": "code",
   "execution_count": 73,
   "metadata": {},
   "outputs": [],
   "source": [
    "pickle.dump(similar, open(\"similarity.pkl\", \"wb\"))"
   ]
  },
  {
   "cell_type": "code",
   "execution_count": 74,
   "metadata": {},
   "outputs": [],
   "source": [
    "import pickle\n",
    "\n",
    "def show_recommendations(selected_song):\n",
    "    # Load data\n",
    "    with open('df.pkl', 'rb') as f:\n",
    "        df = pickle.load(f)\n",
    "    with open('similarity.pkl', 'rb') as f:\n",
    "        similarity = pickle.load(f)\n",
    "    \n",
    "    # Find index of selected song\n",
    "    idx = df[df[\"Song_name\"] == selected_song].index[0]\n",
    "    \n",
    "    # Get similarity scores\n",
    "    distances = sorted(list(enumerate(similarity[idx])), reverse=True, key=lambda x: x[1])\n",
    "    \n",
    "    # Get recommended songs (excluding the selected song itself)\n",
    "    recommended_songs = []\n",
    "    for i in distances[1:6]:  # Top 5 recommendations\n",
    "        recommended_songs.append(df.iloc[i[0]]['Song_name'])\n",
    "    \n",
    "    # Display recommendations\n",
    "    st.header(f'Recommended Songs for {selected_song}')\n",
    "    for Song_name in recommended_songs:\n",
    "        st.write(Song_name)"
   ]
  },
  {
   "cell_type": "code",
   "execution_count": null,
   "metadata": {},
   "outputs": [],
   "source": []
  }
 ],
 "metadata": {
  "kernelspec": {
   "display_name": "base",
   "language": "python",
   "name": "python3"
  },
  "language_info": {
   "codemirror_mode": {
    "name": "ipython",
    "version": 3
   },
   "file_extension": ".py",
   "mimetype": "text/x-python",
   "name": "python",
   "nbconvert_exporter": "python",
   "pygments_lexer": "ipython3",
   "version": "3.11.5"
  }
 },
 "nbformat": 4,
 "nbformat_minor": 2
}
