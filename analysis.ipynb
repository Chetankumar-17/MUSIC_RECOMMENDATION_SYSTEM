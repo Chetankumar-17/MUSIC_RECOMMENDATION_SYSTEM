{
 "cells": [
  {
   "cell_type": "code",
   "execution_count": 33,
   "metadata": {},
   "outputs": [],
   "source": [
    "import pandas as pd"
   ]
  },
  {
   "cell_type": "code",
   "execution_count": 34,
   "metadata": {},
   "outputs": [],
   "source": [
    "df = pd.read_csv('spotify_millsongdata.csv')"
   ]
  },
  {
   "cell_type": "code",
   "execution_count": 35,
   "metadata": {},
   "outputs": [
    {
     "data": {
      "text/html": [
       "<div>\n",
       "<style scoped>\n",
       "    .dataframe tbody tr th:only-of-type {\n",
       "        vertical-align: middle;\n",
       "    }\n",
       "\n",
       "    .dataframe tbody tr th {\n",
       "        vertical-align: top;\n",
       "    }\n",
       "\n",
       "    .dataframe thead th {\n",
       "        text-align: right;\n",
       "    }\n",
       "</style>\n",
       "<table border=\"1\" class=\"dataframe\">\n",
       "  <thead>\n",
       "    <tr style=\"text-align: right;\">\n",
       "      <th></th>\n",
       "      <th>artist</th>\n",
       "      <th>song</th>\n",
       "      <th>link</th>\n",
       "      <th>text</th>\n",
       "    </tr>\n",
       "  </thead>\n",
       "  <tbody>\n",
       "    <tr>\n",
       "      <th>0</th>\n",
       "      <td>ABBA</td>\n",
       "      <td>Ahe's My Kind Of Girl</td>\n",
       "      <td>/a/abba/ahes+my+kind+of+girl_20598417.html</td>\n",
       "      <td>Look at her face, it's a wonderful face  \\r\\nA...</td>\n",
       "    </tr>\n",
       "    <tr>\n",
       "      <th>1</th>\n",
       "      <td>ABBA</td>\n",
       "      <td>Andante, Andante</td>\n",
       "      <td>/a/abba/andante+andante_20002708.html</td>\n",
       "      <td>Take it easy with me, please  \\r\\nTouch me gen...</td>\n",
       "    </tr>\n",
       "    <tr>\n",
       "      <th>2</th>\n",
       "      <td>ABBA</td>\n",
       "      <td>As Good As New</td>\n",
       "      <td>/a/abba/as+good+as+new_20003033.html</td>\n",
       "      <td>I'll never know why I had to go  \\r\\nWhy I had...</td>\n",
       "    </tr>\n",
       "    <tr>\n",
       "      <th>3</th>\n",
       "      <td>ABBA</td>\n",
       "      <td>Bang</td>\n",
       "      <td>/a/abba/bang_20598415.html</td>\n",
       "      <td>Making somebody happy is a question of give an...</td>\n",
       "    </tr>\n",
       "    <tr>\n",
       "      <th>4</th>\n",
       "      <td>ABBA</td>\n",
       "      <td>Bang-A-Boomerang</td>\n",
       "      <td>/a/abba/bang+a+boomerang_20002668.html</td>\n",
       "      <td>Making somebody happy is a question of give an...</td>\n",
       "    </tr>\n",
       "  </tbody>\n",
       "</table>\n",
       "</div>"
      ],
      "text/plain": [
       "  artist                   song                                        link  \\\n",
       "0   ABBA  Ahe's My Kind Of Girl  /a/abba/ahes+my+kind+of+girl_20598417.html   \n",
       "1   ABBA       Andante, Andante       /a/abba/andante+andante_20002708.html   \n",
       "2   ABBA         As Good As New        /a/abba/as+good+as+new_20003033.html   \n",
       "3   ABBA                   Bang                  /a/abba/bang_20598415.html   \n",
       "4   ABBA       Bang-A-Boomerang      /a/abba/bang+a+boomerang_20002668.html   \n",
       "\n",
       "                                                text  \n",
       "0  Look at her face, it's a wonderful face  \\r\\nA...  \n",
       "1  Take it easy with me, please  \\r\\nTouch me gen...  \n",
       "2  I'll never know why I had to go  \\r\\nWhy I had...  \n",
       "3  Making somebody happy is a question of give an...  \n",
       "4  Making somebody happy is a question of give an...  "
      ]
     },
     "execution_count": 35,
     "metadata": {},
     "output_type": "execute_result"
    }
   ],
   "source": [
    "df.head()"
   ]
  },
  {
   "cell_type": "code",
   "execution_count": 36,
   "metadata": {},
   "outputs": [
    {
     "data": {
      "text/html": [
       "<div>\n",
       "<style scoped>\n",
       "    .dataframe tbody tr th:only-of-type {\n",
       "        vertical-align: middle;\n",
       "    }\n",
       "\n",
       "    .dataframe tbody tr th {\n",
       "        vertical-align: top;\n",
       "    }\n",
       "\n",
       "    .dataframe thead th {\n",
       "        text-align: right;\n",
       "    }\n",
       "</style>\n",
       "<table border=\"1\" class=\"dataframe\">\n",
       "  <thead>\n",
       "    <tr style=\"text-align: right;\">\n",
       "      <th></th>\n",
       "      <th>artist</th>\n",
       "      <th>song</th>\n",
       "      <th>link</th>\n",
       "      <th>text</th>\n",
       "    </tr>\n",
       "  </thead>\n",
       "  <tbody>\n",
       "    <tr>\n",
       "      <th>57645</th>\n",
       "      <td>Ziggy Marley</td>\n",
       "      <td>Good Old Days</td>\n",
       "      <td>/z/ziggy+marley/good+old+days_10198588.html</td>\n",
       "      <td>Irie days come on play  \\r\\nLet the angels fly...</td>\n",
       "    </tr>\n",
       "    <tr>\n",
       "      <th>57646</th>\n",
       "      <td>Ziggy Marley</td>\n",
       "      <td>Hand To Mouth</td>\n",
       "      <td>/z/ziggy+marley/hand+to+mouth_20531167.html</td>\n",
       "      <td>Power to the workers  \\r\\nMore power  \\r\\nPowe...</td>\n",
       "    </tr>\n",
       "    <tr>\n",
       "      <th>57647</th>\n",
       "      <td>Zwan</td>\n",
       "      <td>Come With Me</td>\n",
       "      <td>/z/zwan/come+with+me_20148981.html</td>\n",
       "      <td>all you need  \\r\\nis something i'll believe  \\...</td>\n",
       "    </tr>\n",
       "    <tr>\n",
       "      <th>57648</th>\n",
       "      <td>Zwan</td>\n",
       "      <td>Desire</td>\n",
       "      <td>/z/zwan/desire_20148986.html</td>\n",
       "      <td>northern star  \\r\\nam i frightened  \\r\\nwhere ...</td>\n",
       "    </tr>\n",
       "    <tr>\n",
       "      <th>57649</th>\n",
       "      <td>Zwan</td>\n",
       "      <td>Heartsong</td>\n",
       "      <td>/z/zwan/heartsong_20148991.html</td>\n",
       "      <td>come in  \\r\\nmake yourself at home  \\r\\ni'm a ...</td>\n",
       "    </tr>\n",
       "  </tbody>\n",
       "</table>\n",
       "</div>"
      ],
      "text/plain": [
       "             artist           song  \\\n",
       "57645  Ziggy Marley  Good Old Days   \n",
       "57646  Ziggy Marley  Hand To Mouth   \n",
       "57647          Zwan   Come With Me   \n",
       "57648          Zwan         Desire   \n",
       "57649          Zwan      Heartsong   \n",
       "\n",
       "                                              link  \\\n",
       "57645  /z/ziggy+marley/good+old+days_10198588.html   \n",
       "57646  /z/ziggy+marley/hand+to+mouth_20531167.html   \n",
       "57647           /z/zwan/come+with+me_20148981.html   \n",
       "57648                 /z/zwan/desire_20148986.html   \n",
       "57649              /z/zwan/heartsong_20148991.html   \n",
       "\n",
       "                                                    text  \n",
       "57645  Irie days come on play  \\r\\nLet the angels fly...  \n",
       "57646  Power to the workers  \\r\\nMore power  \\r\\nPowe...  \n",
       "57647  all you need  \\r\\nis something i'll believe  \\...  \n",
       "57648  northern star  \\r\\nam i frightened  \\r\\nwhere ...  \n",
       "57649  come in  \\r\\nmake yourself at home  \\r\\ni'm a ...  "
      ]
     },
     "execution_count": 36,
     "metadata": {},
     "output_type": "execute_result"
    }
   ],
   "source": [
    "df.tail()"
   ]
  },
  {
   "cell_type": "code",
   "execution_count": 37,
   "metadata": {},
   "outputs": [
    {
     "data": {
      "text/plain": [
       "(57650, 4)"
      ]
     },
     "execution_count": 37,
     "metadata": {},
     "output_type": "execute_result"
    }
   ],
   "source": [
    "df.shape"
   ]
  },
  {
   "cell_type": "code",
   "execution_count": 38,
   "metadata": {},
   "outputs": [
    {
     "data": {
      "text/plain": [
       "artist    0\n",
       "song      0\n",
       "link      0\n",
       "text      0\n",
       "dtype: int64"
      ]
     },
     "execution_count": 38,
     "metadata": {},
     "output_type": "execute_result"
    }
   ],
   "source": [
    "df.isnull().sum()"
   ]
  },
  {
   "cell_type": "code",
   "execution_count": 39,
   "metadata": {},
   "outputs": [],
   "source": [
    "if 'link' in df.columns :\n",
    "    df = df.drop('link',axis=1)\n",
    "\n",
    "df = df.sample(1000).reset_index(drop=True)"
   ]
  },
  {
   "cell_type": "code",
   "execution_count": 40,
   "metadata": {},
   "outputs": [
    {
     "data": {
      "text/html": [
       "<div>\n",
       "<style scoped>\n",
       "    .dataframe tbody tr th:only-of-type {\n",
       "        vertical-align: middle;\n",
       "    }\n",
       "\n",
       "    .dataframe tbody tr th {\n",
       "        vertical-align: top;\n",
       "    }\n",
       "\n",
       "    .dataframe thead th {\n",
       "        text-align: right;\n",
       "    }\n",
       "</style>\n",
       "<table border=\"1\" class=\"dataframe\">\n",
       "  <thead>\n",
       "    <tr style=\"text-align: right;\">\n",
       "      <th></th>\n",
       "      <th>artist</th>\n",
       "      <th>song</th>\n",
       "      <th>text</th>\n",
       "    </tr>\n",
       "  </thead>\n",
       "  <tbody>\n",
       "    <tr>\n",
       "      <th>0</th>\n",
       "      <td>Bee Gees</td>\n",
       "      <td>Above And Beyond</td>\n",
       "      <td>Woman in a million to me  \\r\\nI've never loved...</td>\n",
       "    </tr>\n",
       "    <tr>\n",
       "      <th>1</th>\n",
       "      <td>Joy Division</td>\n",
       "      <td>A Means To An End</td>\n",
       "      <td>A legacy so far removed,  \\r\\nOne day will be ...</td>\n",
       "    </tr>\n",
       "    <tr>\n",
       "      <th>2</th>\n",
       "      <td>Phineas And Ferb</td>\n",
       "      <td>Little Brothers</td>\n",
       "      <td>Little Brother,  \\r\\nI remember when you first...</td>\n",
       "    </tr>\n",
       "    <tr>\n",
       "      <th>3</th>\n",
       "      <td>Lea Salonga</td>\n",
       "      <td>Don't Know What To Do, Don't Know What To Say</td>\n",
       "      <td>I have loved you only in my mind  \\r\\nBut I kn...</td>\n",
       "    </tr>\n",
       "    <tr>\n",
       "      <th>4</th>\n",
       "      <td>Chaka Khan</td>\n",
       "      <td>The Woman I Am</td>\n",
       "      <td>Hey sister  \\r\\nI never knew which way to go  ...</td>\n",
       "    </tr>\n",
       "  </tbody>\n",
       "</table>\n",
       "</div>"
      ],
      "text/plain": [
       "             artist                                           song  \\\n",
       "0          Bee Gees                               Above And Beyond   \n",
       "1      Joy Division                              A Means To An End   \n",
       "2  Phineas And Ferb                                Little Brothers   \n",
       "3       Lea Salonga  Don't Know What To Do, Don't Know What To Say   \n",
       "4        Chaka Khan                                 The Woman I Am   \n",
       "\n",
       "                                                text  \n",
       "0  Woman in a million to me  \\r\\nI've never loved...  \n",
       "1  A legacy so far removed,  \\r\\nOne day will be ...  \n",
       "2  Little Brother,  \\r\\nI remember when you first...  \n",
       "3  I have loved you only in my mind  \\r\\nBut I kn...  \n",
       "4  Hey sister  \\r\\nI never knew which way to go  ...  "
      ]
     },
     "execution_count": 40,
     "metadata": {},
     "output_type": "execute_result"
    }
   ],
   "source": [
    "df.head()"
   ]
  },
  {
   "cell_type": "code",
   "execution_count": 41,
   "metadata": {},
   "outputs": [
    {
     "data": {
      "text/plain": [
       "\"Woman in a million to me  \\r\\nI've never loved so much  \\r\\nIs it any wonder I'm alive  \\r\\nNo one ever knows what makes a  \\r\\nVirtue or a vice  \\r\\nLet it be the spell I'm under  \\r\\n(These naked eyes)  \\r\\nLet it be the rain and thunder comes  \\r\\n  \\r\\nI go above and beyond the sun  \\r\\nSome love never dies  \\r\\nStory of our lives, oh,  \\r\\nSwear by the stars above  \\r\\nAnd late at night I pray to myself  \\r\\nThat you and I got everything we need  \\r\\nI'd give it all for you and me  \\r\\n  \\r\\nLove is the earth and the wind  \\r\\nAnd the fire and the soul  \\r\\nLove is above and beyond any eye to behold  \\r\\nLove is the key and the cause  \\r\\nAnd its makin' us whole  \\r\\n  \\r\\nMade me a little crazy, but I  \\r\\nSoon realize my fate  \\r\\nEvery little touch I'm paralized  \\r\\nNo one ever knows what makes  \\r\\nAn angel in disguise  \\r\\nLet me be the one to taste you  \\r\\nThose naked eyes  \\r\\nNo pity if the city ever crumbles down  \\r\\n  \\r\\nI go above and beyond the sun  \\r\\nSome love never dies  \\r\\nStory of our lives, oh  \\r\\nSwear by the stars above  \\r\\nAnd late at night I pray to myself  \\r\\nThat you and I got everything we need  \\r\\nI'd give it all for you and me  \\r\\n  \\r\\nLove is the earth and the wind  \\r\\nAnd the fire and we share  \\r\\nLove is the force and the edge  \\r\\nAnd its ready for those who dare  \\r\\nLove is above and beyond  \\r\\nAnd I'm taking you there  \\r\\n(And baby I'll take you there)  \\r\\n  \\r\\nI go above and beyond the sun  \\r\\nSome love never dies  \\r\\nStory of our lives, ohh  \\r\\nSwear by the stars above  \\r\\nAnd late at night I pray to myself  \\r\\nThat you and I got everything we need  \\r\\nI'd give it all for you and me  \\r\\n  \\r\\nLove is the earth and the wind  \\r\\nAnd the fire and the soul  \\r\\nLove is the key and the cause  \\r\\nAnd it's making us whole  \\r\\nLove is the force and the edge  \\r\\nAnd its yours if you dare  \\r\\nLove is above and beyond  \\r\\nAnd I'm taking you there  \\r\\n(Baby I'll take you there)  \\r\\n  \\r\\nI go above and beyond the sun  \\r\\nSome love never dies  \\r\\nStory of our lives oh,  \\r\\nSwear by the stars above  \\r\\nAnd late at night I pray to myself  \\r\\nThat you and I got everything we need  \\r\\nI'd give it all for you and me\\r\\n\\r\\n\""
      ]
     },
     "execution_count": 41,
     "metadata": {},
     "output_type": "execute_result"
    }
   ],
   "source": [
    "df['text'][0]"
   ]
  },
  {
   "cell_type": "code",
   "execution_count": 42,
   "metadata": {},
   "outputs": [
    {
     "name": "stdout",
     "output_type": "stream",
     "text": [
      "                 artist                                           song  \\\n",
      "0              Bee Gees                               Above And Beyond   \n",
      "1          Joy Division                              A Means To An End   \n",
      "2      Phineas And Ferb                                Little Brothers   \n",
      "3           Lea Salonga  Don't Know What To Do, Don't Know What To Say   \n",
      "4            Chaka Khan                                 The Woman I Am   \n",
      "..                  ...                                            ...   \n",
      "995         Chuck Berry                             Worried Life Blues   \n",
      "996         Nina Simone                                 See-Line Woman   \n",
      "997  Christina Aguilera                               Beautiful People   \n",
      "998  Christina Aguilera                              Love Is Only Love   \n",
      "999  Marianne Faithfull                                 Mack The Knife   \n",
      "\n",
      "                                                  text      genre  \n",
      "0    Woman in a million to me  \\r\\nI've never loved...     trance  \n",
      "1    A legacy so far removed,  \\r\\nOne day will be ...  dancehall  \n",
      "2    Little Brother,  \\r\\nI remember when you first...      salsa  \n",
      "3    I have loved you only in my mind  \\r\\nBut I kn...   cantopop  \n",
      "4    Hey sister  \\r\\nI never knew which way to go  ...  breakbeat  \n",
      "..                                                 ...        ...  \n",
      "995  Oh lordy Lord, oh lordy Lord  \\r\\nIt hurts me ...    new-age  \n",
      "996  Yeah  \\r\\nYeah yeah yeah yeah  \\r\\nAlright ye ...      piano  \n",
      "997  Burlesque  \\r\\nBeautiful, beautiful, beautiful...      metal  \n",
      "998  Dolly:  \\r\\nHorace vandergelder, mrs. horace v...    dubstep  \n",
      "999  Oh, the poor shark,  \\r\\nYes, the sweet shark,...      forro  \n",
      "\n",
      "[1000 rows x 4 columns]\n"
     ]
    }
   ],
   "source": [
    "import numpy as np\n",
    "\n",
    "genres = ['acoustic', 'afrobeat', 'alt-rock', 'ambient', 'black-metal', 'blues',\n",
    " 'breakbeat', 'cantopop', 'chicago-house', 'chill', 'classical', 'club',\n",
    " 'comedy', 'country', 'dance', 'dancehall', 'death-metal', 'deep-house',\n",
    " 'detroit-techno', 'disco', 'drum-and-bass', 'dub', 'dubstep', 'edm', 'electro',\n",
    " 'electronic', 'emo', 'folk', 'forro', 'french', 'funk', 'garage', 'german',\n",
    " 'gospel', 'goth', 'grindcore', 'groove', 'guitar', 'hard-rock', 'hardcore',\n",
    " 'hardstyle', 'heavy-metal', 'hip-hop', 'house', 'indian', 'indie-pop',\n",
    " 'industrial', 'jazz', 'k-pop', 'metal', 'metalcore', 'minimal-techno',\n",
    " 'new-age', 'opera', 'party', 'piano', 'pop', 'pop-film', 'power-pop',\n",
    " 'progressive-house', 'psych-rock', 'punk', 'punk-rock', 'rock', 'rock-n-roll',\n",
    " 'romance', 'sad', 'salsa', 'samba', 'sertanejo', 'show-tunes',\n",
    " 'singer-songwriter', 'ska', 'sleep', 'songwriter', 'soul', 'spanish', 'swedish',\n",
    " 'tango', 'techno', 'trance', 'trip-hop']\n",
    "\n",
    "\n",
    "\n",
    "df['genre'] = np.random.choice(genres, size=len(df))\n",
    "\n",
    "print(df)"
   ]
  },
  {
   "cell_type": "code",
   "execution_count": 43,
   "metadata": {},
   "outputs": [
    {
     "data": {
      "text/html": [
       "<div>\n",
       "<style scoped>\n",
       "    .dataframe tbody tr th:only-of-type {\n",
       "        vertical-align: middle;\n",
       "    }\n",
       "\n",
       "    .dataframe tbody tr th {\n",
       "        vertical-align: top;\n",
       "    }\n",
       "\n",
       "    .dataframe thead th {\n",
       "        text-align: right;\n",
       "    }\n",
       "</style>\n",
       "<table border=\"1\" class=\"dataframe\">\n",
       "  <thead>\n",
       "    <tr style=\"text-align: right;\">\n",
       "      <th></th>\n",
       "      <th>artist</th>\n",
       "      <th>song</th>\n",
       "      <th>text</th>\n",
       "      <th>genre</th>\n",
       "    </tr>\n",
       "  </thead>\n",
       "  <tbody>\n",
       "    <tr>\n",
       "      <th>0</th>\n",
       "      <td>Bee Gees</td>\n",
       "      <td>Above And Beyond</td>\n",
       "      <td>Woman in a million to me  \\r\\nI've never loved...</td>\n",
       "      <td>trance</td>\n",
       "    </tr>\n",
       "    <tr>\n",
       "      <th>1</th>\n",
       "      <td>Joy Division</td>\n",
       "      <td>A Means To An End</td>\n",
       "      <td>A legacy so far removed,  \\r\\nOne day will be ...</td>\n",
       "      <td>dancehall</td>\n",
       "    </tr>\n",
       "    <tr>\n",
       "      <th>2</th>\n",
       "      <td>Phineas And Ferb</td>\n",
       "      <td>Little Brothers</td>\n",
       "      <td>Little Brother,  \\r\\nI remember when you first...</td>\n",
       "      <td>salsa</td>\n",
       "    </tr>\n",
       "    <tr>\n",
       "      <th>3</th>\n",
       "      <td>Lea Salonga</td>\n",
       "      <td>Don't Know What To Do, Don't Know What To Say</td>\n",
       "      <td>I have loved you only in my mind  \\r\\nBut I kn...</td>\n",
       "      <td>cantopop</td>\n",
       "    </tr>\n",
       "    <tr>\n",
       "      <th>4</th>\n",
       "      <td>Chaka Khan</td>\n",
       "      <td>The Woman I Am</td>\n",
       "      <td>Hey sister  \\r\\nI never knew which way to go  ...</td>\n",
       "      <td>breakbeat</td>\n",
       "    </tr>\n",
       "  </tbody>\n",
       "</table>\n",
       "</div>"
      ],
      "text/plain": [
       "             artist                                           song  \\\n",
       "0          Bee Gees                               Above And Beyond   \n",
       "1      Joy Division                              A Means To An End   \n",
       "2  Phineas And Ferb                                Little Brothers   \n",
       "3       Lea Salonga  Don't Know What To Do, Don't Know What To Say   \n",
       "4        Chaka Khan                                 The Woman I Am   \n",
       "\n",
       "                                                text      genre  \n",
       "0  Woman in a million to me  \\r\\nI've never loved...     trance  \n",
       "1  A legacy so far removed,  \\r\\nOne day will be ...  dancehall  \n",
       "2  Little Brother,  \\r\\nI remember when you first...      salsa  \n",
       "3  I have loved you only in my mind  \\r\\nBut I kn...   cantopop  \n",
       "4  Hey sister  \\r\\nI never knew which way to go  ...  breakbeat  "
      ]
     },
     "execution_count": 43,
     "metadata": {},
     "output_type": "execute_result"
    }
   ],
   "source": [
    "df.head()"
   ]
  },
  {
   "cell_type": "code",
   "execution_count": 44,
   "metadata": {},
   "outputs": [
    {
     "data": {
      "text/plain": [
       "(1000, 4)"
      ]
     },
     "execution_count": 44,
     "metadata": {},
     "output_type": "execute_result"
    }
   ],
   "source": [
    "df.shape"
   ]
  },
  {
   "cell_type": "code",
   "execution_count": 45,
   "metadata": {},
   "outputs": [
    {
     "data": {
      "text/plain": [
       "0      woman in a million to me  \\r i ve never loved ...\n",
       "1      a legacy so far removed   \\r one day will be i...\n",
       "2      little brother   \\r i remember when you first ...\n",
       "3      i have loved you only in my mind  \\r but i kno...\n",
       "4      hey sister  \\r i never knew which way to go  \\...\n",
       "                             ...                        \n",
       "995    oh lordy lord  oh lordy lord  \\r it hurts me s...\n",
       "996    yeah  \\r yeah yeah yeah yeah  \\r alright ye  \\...\n",
       "997    burlesque  \\r beautiful  beautiful  beautiful ...\n",
       "998    dolly   \\r horace vandergelder  mrs  horace va...\n",
       "999    oh  the poor shark   \\r yes  the sweet shark  ...\n",
       "Name: text, Length: 1000, dtype: object"
      ]
     },
     "execution_count": 45,
     "metadata": {},
     "output_type": "execute_result"
    }
   ],
   "source": [
    "df['text'].str.lower().replace(r'[^\\w\\s]', ' ', regex=True).replace(r'\\n', ' ', regex=True)"
   ]
  },
  {
   "cell_type": "code",
   "execution_count": 46,
   "metadata": {},
   "outputs": [
    {
     "data": {
      "text/html": [
       "<div>\n",
       "<style scoped>\n",
       "    .dataframe tbody tr th:only-of-type {\n",
       "        vertical-align: middle;\n",
       "    }\n",
       "\n",
       "    .dataframe tbody tr th {\n",
       "        vertical-align: top;\n",
       "    }\n",
       "\n",
       "    .dataframe thead th {\n",
       "        text-align: right;\n",
       "    }\n",
       "</style>\n",
       "<table border=\"1\" class=\"dataframe\">\n",
       "  <thead>\n",
       "    <tr style=\"text-align: right;\">\n",
       "      <th></th>\n",
       "      <th>artist</th>\n",
       "      <th>song</th>\n",
       "      <th>text</th>\n",
       "      <th>genre</th>\n",
       "    </tr>\n",
       "  </thead>\n",
       "  <tbody>\n",
       "    <tr>\n",
       "      <th>990</th>\n",
       "      <td>Megadeth</td>\n",
       "      <td>Never Dead</td>\n",
       "      <td>The killers lie and wait for innocent blood  \\...</td>\n",
       "      <td>romance</td>\n",
       "    </tr>\n",
       "    <tr>\n",
       "      <th>991</th>\n",
       "      <td>Michael Bolton</td>\n",
       "      <td>Time Is On My Side</td>\n",
       "      <td>Time is on my side, yes, it is  \\r\\nTime is on...</td>\n",
       "      <td>ska</td>\n",
       "    </tr>\n",
       "    <tr>\n",
       "      <th>992</th>\n",
       "      <td>Rush</td>\n",
       "      <td>Ii. Apollo: Bringer Of Wisdom</td>\n",
       "      <td>\"I bring truth and understanding,  \\r\\nI bring...</td>\n",
       "      <td>ambient</td>\n",
       "    </tr>\n",
       "    <tr>\n",
       "      <th>993</th>\n",
       "      <td>Lana Del Rey</td>\n",
       "      <td>I'm Indebited To You</td>\n",
       "      <td>What an unusual name you said  \\r\\nWhat a spec...</td>\n",
       "      <td>detroit-techno</td>\n",
       "    </tr>\n",
       "    <tr>\n",
       "      <th>994</th>\n",
       "      <td>Sam Smith</td>\n",
       "      <td>I've Told You Now</td>\n",
       "      <td>You know what I mean  \\r\\nIt's like walking in...</td>\n",
       "      <td>afrobeat</td>\n",
       "    </tr>\n",
       "    <tr>\n",
       "      <th>995</th>\n",
       "      <td>Chuck Berry</td>\n",
       "      <td>Worried Life Blues</td>\n",
       "      <td>Oh lordy Lord, oh lordy Lord  \\r\\nIt hurts me ...</td>\n",
       "      <td>new-age</td>\n",
       "    </tr>\n",
       "    <tr>\n",
       "      <th>996</th>\n",
       "      <td>Nina Simone</td>\n",
       "      <td>See-Line Woman</td>\n",
       "      <td>Yeah  \\r\\nYeah yeah yeah yeah  \\r\\nAlright ye ...</td>\n",
       "      <td>piano</td>\n",
       "    </tr>\n",
       "    <tr>\n",
       "      <th>997</th>\n",
       "      <td>Christina Aguilera</td>\n",
       "      <td>Beautiful People</td>\n",
       "      <td>Burlesque  \\r\\nBeautiful, beautiful, beautiful...</td>\n",
       "      <td>metal</td>\n",
       "    </tr>\n",
       "    <tr>\n",
       "      <th>998</th>\n",
       "      <td>Christina Aguilera</td>\n",
       "      <td>Love Is Only Love</td>\n",
       "      <td>Dolly:  \\r\\nHorace vandergelder, mrs. horace v...</td>\n",
       "      <td>dubstep</td>\n",
       "    </tr>\n",
       "    <tr>\n",
       "      <th>999</th>\n",
       "      <td>Marianne Faithfull</td>\n",
       "      <td>Mack The Knife</td>\n",
       "      <td>Oh, the poor shark,  \\r\\nYes, the sweet shark,...</td>\n",
       "      <td>forro</td>\n",
       "    </tr>\n",
       "  </tbody>\n",
       "</table>\n",
       "</div>"
      ],
      "text/plain": [
       "                 artist                           song  \\\n",
       "990            Megadeth                     Never Dead   \n",
       "991      Michael Bolton             Time Is On My Side   \n",
       "992                Rush  Ii. Apollo: Bringer Of Wisdom   \n",
       "993        Lana Del Rey           I'm Indebited To You   \n",
       "994           Sam Smith              I've Told You Now   \n",
       "995         Chuck Berry             Worried Life Blues   \n",
       "996         Nina Simone                 See-Line Woman   \n",
       "997  Christina Aguilera               Beautiful People   \n",
       "998  Christina Aguilera              Love Is Only Love   \n",
       "999  Marianne Faithfull                 Mack The Knife   \n",
       "\n",
       "                                                  text           genre  \n",
       "990  The killers lie and wait for innocent blood  \\...         romance  \n",
       "991  Time is on my side, yes, it is  \\r\\nTime is on...             ska  \n",
       "992  \"I bring truth and understanding,  \\r\\nI bring...         ambient  \n",
       "993  What an unusual name you said  \\r\\nWhat a spec...  detroit-techno  \n",
       "994  You know what I mean  \\r\\nIt's like walking in...        afrobeat  \n",
       "995  Oh lordy Lord, oh lordy Lord  \\r\\nIt hurts me ...         new-age  \n",
       "996  Yeah  \\r\\nYeah yeah yeah yeah  \\r\\nAlright ye ...           piano  \n",
       "997  Burlesque  \\r\\nBeautiful, beautiful, beautiful...           metal  \n",
       "998  Dolly:  \\r\\nHorace vandergelder, mrs. horace v...         dubstep  \n",
       "999  Oh, the poor shark,  \\r\\nYes, the sweet shark,...           forro  "
      ]
     },
     "execution_count": 46,
     "metadata": {},
     "output_type": "execute_result"
    }
   ],
   "source": [
    "df.tail(10)"
   ]
  },
  {
   "cell_type": "code",
   "execution_count": 47,
   "metadata": {},
   "outputs": [
    {
     "name": "stderr",
     "output_type": "stream",
     "text": [
      "[nltk_data] Downloading package punkt to\n",
      "[nltk_data]     C:\\Users\\chetan\\AppData\\Roaming\\nltk_data...\n",
      "[nltk_data]   Package punkt is already up-to-date!\n"
     ]
    },
    {
     "data": {
      "text/plain": [
       "True"
      ]
     },
     "execution_count": 47,
     "metadata": {},
     "output_type": "execute_result"
    }
   ],
   "source": [
    "import nltk\n",
    "from nltk.stem.porter import PorterStemmer\n",
    "nltk.download('punkt')"
   ]
  },
  {
   "cell_type": "code",
   "execution_count": 48,
   "metadata": {},
   "outputs": [],
   "source": [
    "st = PorterStemmer()"
   ]
  },
  {
   "cell_type": "code",
   "execution_count": 49,
   "metadata": {},
   "outputs": [],
   "source": [
    "def token(text):\n",
    "    tokens = nltk.word_tokenize(text)\n",
    "    tokens_list = [st.stem(w) for w in tokens]\n",
    "    return \" \".join(tokens_list)"
   ]
  },
  {
   "cell_type": "code",
   "execution_count": 50,
   "metadata": {},
   "outputs": [
    {
     "name": "stdout",
     "output_type": "stream",
     "text": [
      "you are handsom\n"
     ]
    }
   ],
   "source": [
    "print(token('you are handsome'))"
   ]
  },
  {
   "cell_type": "code",
   "execution_count": 51,
   "metadata": {},
   "outputs": [
    {
     "data": {
      "text/plain": [
       "0      woman in a million to me i 've never love so m...\n",
       "1      a legaci so far remov , one day will be improv...\n",
       "2      littl brother , i rememb when you first came h...\n",
       "3      i have love you onli in my mind but i know tha...\n",
       "4      hey sister i never knew which way to go everyb...\n",
       "                             ...                        \n",
       "995    oh lordi lord , oh lordi lord it hurt me so ba...\n",
       "996    yeah yeah yeah yeah yeah alright ye see-lin wo...\n",
       "997    burlesqu beauti , beauti , beauti , beauti bea...\n",
       "998    dolli : horac vandergeld , mrs. horac vanderge...\n",
       "999    oh , the poor shark , ye , the sweet shark , i...\n",
       "Name: text, Length: 1000, dtype: object"
      ]
     },
     "execution_count": 51,
     "metadata": {},
     "output_type": "execute_result"
    }
   ],
   "source": [
    "df['text'].apply(lambda x: token(x))"
   ]
  },
  {
   "cell_type": "code",
   "execution_count": 52,
   "metadata": {},
   "outputs": [],
   "source": [
    "from sklearn.feature_extraction.text import TfidfVectorizer\n",
    "from sklearn.metrics.pairwise import cosine_similarity"
   ]
  },
  {
   "cell_type": "code",
   "execution_count": 53,
   "metadata": {},
   "outputs": [],
   "source": [
    "tfid = TfidfVectorizer(analyzer='word',stop_words = 'english')"
   ]
  },
  {
   "cell_type": "code",
   "execution_count": 54,
   "metadata": {},
   "outputs": [],
   "source": [
    "matrix = tfid.fit_transform(df['text'])"
   ]
  },
  {
   "cell_type": "code",
   "execution_count": 55,
   "metadata": {},
   "outputs": [
    {
     "data": {
      "text/plain": [
       "<1000x9878 sparse matrix of type '<class 'numpy.float64'>'\n",
       "\twith 53810 stored elements in Compressed Sparse Row format>"
      ]
     },
     "execution_count": 55,
     "metadata": {},
     "output_type": "execute_result"
    }
   ],
   "source": [
    "matrix"
   ]
  },
  {
   "cell_type": "code",
   "execution_count": 56,
   "metadata": {},
   "outputs": [
    {
     "data": {
      "text/plain": [
       "array([[1.        , 0.        , 0.0392168 , ..., 0.01275419, 0.1475842 ,\n",
       "        0.01467957],\n",
       "       [0.        , 1.        , 0.        , ..., 0.        , 0.        ,\n",
       "        0.00699819],\n",
       "       [0.0392168 , 0.        , 1.        , ..., 0.        , 0.        ,\n",
       "        0.        ],\n",
       "       ...,\n",
       "       [0.01275419, 0.        , 0.        , ..., 1.        , 0.01247501,\n",
       "        0.00131204],\n",
       "       [0.1475842 , 0.        , 0.        , ..., 0.01247501, 1.        ,\n",
       "        0.01130999],\n",
       "       [0.01467957, 0.00699819, 0.        , ..., 0.00131204, 0.01130999,\n",
       "        1.        ]])"
      ]
     },
     "execution_count": 56,
     "metadata": {},
     "output_type": "execute_result"
    }
   ],
   "source": [
    "cosine_similarity(matrix)"
   ]
  },
  {
   "cell_type": "code",
   "execution_count": 57,
   "metadata": {},
   "outputs": [],
   "source": [
    "similar = cosine_similarity(matrix)"
   ]
  },
  {
   "cell_type": "code",
   "execution_count": 58,
   "metadata": {},
   "outputs": [
    {
     "data": {
      "text/plain": [
       "array([1.00000000e+00, 0.00000000e+00, 3.92168008e-02, 3.91796042e-02,\n",
       "       7.03245619e-02, 3.81255063e-02, 5.78006570e-02, 2.42674229e-02,\n",
       "       4.30020319e-02, 3.27215204e-02, 1.78354523e-01, 6.21520550e-02,\n",
       "       3.54639040e-02, 1.92705031e-02, 3.89960602e-02, 1.83587200e-02,\n",
       "       1.10748950e-01, 2.06266956e-02, 1.99375893e-02, 7.06859572e-02,\n",
       "       1.18469796e-02, 2.43137490e-02, 5.74503814e-02, 3.86080921e-02,\n",
       "       1.20005849e-02, 2.05330512e-02, 6.69638651e-02, 6.57998376e-02,\n",
       "       1.41822045e-02, 6.33145911e-02, 1.19045596e-01, 5.48441129e-02,\n",
       "       1.63975668e-01, 0.00000000e+00, 1.60142809e-02, 1.63249646e-03,\n",
       "       1.18844152e-01, 6.20354158e-02, 3.38700928e-02, 1.15293622e-03,\n",
       "       2.35697876e-02, 3.09817152e-02, 4.71900280e-02, 1.43579600e-01,\n",
       "       5.37214081e-02, 1.86887512e-02, 2.33192387e-02, 6.80698442e-02,\n",
       "       1.65349640e-02, 1.79523326e-02, 2.94462593e-02, 6.24306811e-02,\n",
       "       2.70762059e-02, 4.40214216e-02, 1.14408200e-01, 4.97704462e-02,\n",
       "       7.58358667e-02, 1.59684951e-02, 5.30136227e-02, 3.56064358e-02,\n",
       "       6.42201641e-02, 6.07122895e-02, 9.79762178e-02, 3.48519757e-02,\n",
       "       5.38552074e-02, 1.62143299e-02, 8.21384012e-03, 3.92876702e-02,\n",
       "       7.16707861e-03, 8.79783360e-02, 1.03854269e-01, 3.37345352e-02,\n",
       "       5.48151649e-02, 2.77617125e-02, 3.23374629e-02, 5.64788532e-02,\n",
       "       4.02029700e-02, 3.30595151e-02, 2.76308657e-03, 1.46696762e-01,\n",
       "       6.10758618e-03, 3.15311134e-02, 6.65592539e-02, 1.25365128e-02,\n",
       "       9.36715652e-03, 3.94149603e-03, 2.49128829e-02, 1.43169130e-02,\n",
       "       1.53498983e-01, 3.95705520e-03, 8.83663476e-02, 3.04256208e-02,\n",
       "       4.78587364e-02, 3.58506056e-02, 1.44839490e-02, 2.74770897e-02,\n",
       "       5.96774408e-02, 8.12374161e-02, 4.21915246e-02, 3.83614670e-02,\n",
       "       3.12438459e-02, 1.42625025e-03, 2.46828660e-02, 3.60451091e-02,\n",
       "       5.41114400e-02, 2.50293581e-02, 5.07771075e-02, 9.97298083e-03,\n",
       "       3.89031652e-02, 2.68916847e-02, 4.98677644e-02, 2.07462009e-02,\n",
       "       0.00000000e+00, 3.74643479e-03, 3.37412258e-03, 2.29796845e-01,\n",
       "       3.06378435e-02, 5.43798044e-02, 2.62217548e-02, 4.62658060e-02,\n",
       "       6.66457414e-02, 3.40948610e-02, 7.58451481e-02, 2.49755417e-02,\n",
       "       2.35602698e-02, 2.06999633e-02, 1.19700648e-02, 1.53171260e-01,\n",
       "       1.04370795e-02, 1.64088506e-02, 5.83200650e-02, 5.26668192e-03,\n",
       "       7.55110287e-02, 4.41471812e-02, 2.75983681e-02, 2.54103809e-02,\n",
       "       5.66569206e-02, 8.75905022e-02, 4.02156091e-02, 5.75775596e-02,\n",
       "       2.40331653e-02, 8.57643615e-02, 2.86598234e-02, 3.94533424e-02,\n",
       "       2.79724429e-02, 5.85425159e-04, 1.96923599e-02, 1.41262495e-01,\n",
       "       4.86461511e-02, 0.00000000e+00, 2.68614407e-02, 1.08684090e-01,\n",
       "       1.59140321e-02, 1.45159063e-01, 1.87251648e-01, 4.91441712e-02,\n",
       "       2.24880749e-02, 1.31970283e-01, 3.42117707e-02, 4.05303602e-02,\n",
       "       2.82571312e-02, 9.11695776e-03, 1.25891781e-01, 5.04926228e-02,\n",
       "       2.07634668e-02, 7.12874313e-03, 1.82423924e-02, 2.54704832e-02,\n",
       "       1.65860081e-02, 3.61123497e-02, 9.57270158e-03, 6.46420815e-02,\n",
       "       1.67775410e-02, 2.10186690e-02, 5.54650538e-02, 1.67796998e-02,\n",
       "       1.24342958e-02, 3.00417002e-02, 1.06400616e-01, 6.36168782e-02,\n",
       "       2.74561485e-02, 3.18474563e-02, 1.13624287e-01, 4.14603744e-02,\n",
       "       1.79661377e-03, 4.04025231e-02, 1.50566219e-01, 1.23815073e-02,\n",
       "       8.17659030e-02, 5.96950176e-03, 3.07889617e-02, 4.32793927e-02,\n",
       "       1.60728096e-01, 8.31055103e-02, 3.80042183e-02, 3.44072292e-02,\n",
       "       8.23754035e-02, 6.83435086e-02, 9.92804989e-03, 4.56879463e-02,\n",
       "       9.05045972e-02, 1.85372761e-03, 2.90515430e-02, 2.21371088e-02,\n",
       "       1.26925725e-02, 7.96864076e-02, 5.12548404e-02, 3.24976221e-02,\n",
       "       7.80906682e-02, 3.88734134e-02, 2.57778411e-01, 1.65240112e-02,\n",
       "       1.30228899e-02, 1.47808507e-02, 8.21362117e-02, 0.00000000e+00,\n",
       "       3.47959855e-02, 5.72777605e-02, 6.94162270e-02, 2.77295971e-02,\n",
       "       6.16522234e-02, 5.82141644e-02, 8.69216050e-03, 6.51898718e-02,\n",
       "       3.01850786e-02, 1.56048038e-02, 1.93672593e-02, 9.96387696e-02,\n",
       "       6.39763663e-02, 8.50787467e-02, 0.00000000e+00, 1.70240935e-02,\n",
       "       1.98699402e-02, 5.23104436e-02, 5.10094985e-02, 4.62296896e-02,\n",
       "       2.12177119e-02, 5.28189580e-02, 3.85884172e-02, 6.78460220e-02,\n",
       "       1.82321879e-02, 1.34696771e-02, 7.73944754e-02, 3.36620803e-02,\n",
       "       5.19142667e-02, 1.01785697e-02, 1.45337222e-02, 7.81320913e-02,\n",
       "       4.14943196e-02, 6.64454513e-02, 2.93570892e-02, 6.10555831e-02,\n",
       "       6.15494589e-03, 1.92188553e-02, 6.08684164e-02, 3.41295665e-02,\n",
       "       2.94426496e-02, 4.23871700e-02, 1.72965468e-02, 4.26479915e-02,\n",
       "       5.76641630e-02, 2.79874138e-03, 3.25747015e-02, 7.99084179e-03,\n",
       "       1.80583463e-02, 1.21022253e-02, 4.85555550e-02, 4.03558199e-03,\n",
       "       7.45031765e-02, 5.58581838e-02, 2.09001564e-01, 7.51648179e-03,\n",
       "       6.83156234e-02, 9.76732370e-02, 1.42161882e-02, 6.55860963e-02,\n",
       "       3.46347103e-02, 2.51298458e-01, 0.00000000e+00, 7.24423644e-02,\n",
       "       5.53511543e-03, 7.80106915e-02, 1.13803138e-02, 3.80756900e-02,\n",
       "       1.30283923e-02, 3.71238800e-02, 9.02098588e-02, 1.79351175e-01,\n",
       "       3.30999546e-02, 4.52661769e-02, 1.43280917e-01, 6.89695145e-02,\n",
       "       3.02565801e-02, 1.01734073e-01, 1.02334526e-01, 4.04510067e-02,\n",
       "       5.86803362e-02, 8.00263625e-02, 1.49782402e-02, 3.06367537e-02,\n",
       "       9.22232653e-02, 5.72117358e-02, 5.64996165e-03, 9.43216780e-02,\n",
       "       1.74560075e-02, 3.02135537e-02, 2.87906163e-02, 1.99082240e-03,\n",
       "       2.40045090e-02, 1.31848815e-02, 4.36285876e-02, 2.17307686e-02,\n",
       "       2.18052969e-02, 7.90059091e-03, 1.59494416e-02, 0.00000000e+00,\n",
       "       3.99044961e-02, 2.54521770e-02, 1.89911904e-02, 4.24007440e-02,\n",
       "       5.39044450e-02, 2.07173728e-01, 5.44391169e-02, 8.12926103e-02,\n",
       "       3.02918008e-02, 1.51384728e-02, 1.89487508e-02, 2.16065699e-02,\n",
       "       1.66541055e-02, 4.40821978e-02, 7.94210591e-02, 2.24007433e-02,\n",
       "       3.34085392e-02, 1.07395109e-02, 3.31522289e-02, 2.90367594e-02,\n",
       "       5.90037894e-02, 2.79339683e-02, 4.47174846e-02, 2.08870733e-02,\n",
       "       1.81241896e-02, 7.31240743e-02, 0.00000000e+00, 1.12984045e-02,\n",
       "       2.69249863e-02, 4.42076639e-02, 2.16005401e-02, 8.84150069e-03,\n",
       "       3.50263470e-02, 5.09449489e-02, 1.63929703e-02, 5.89310141e-02,\n",
       "       1.06090215e-01, 2.64744323e-02, 2.22780931e-02, 4.20271260e-02,\n",
       "       3.82411293e-02, 2.30224310e-02, 2.05721337e-01, 3.36684880e-02,\n",
       "       1.93763609e-02, 4.77770053e-02, 3.76095198e-02, 4.48487117e-02,\n",
       "       1.25228202e-01, 2.31741032e-02, 3.33933256e-02, 7.97981678e-02,\n",
       "       3.04741457e-02, 4.85295622e-02, 1.70411464e-02, 1.50776923e-02,\n",
       "       4.38824774e-02, 4.95189418e-02, 2.33058313e-02, 9.79572147e-02,\n",
       "       8.88052482e-04, 3.37020864e-02, 2.15742197e-02, 1.00666153e-01,\n",
       "       3.59060883e-03, 8.28899114e-03, 2.36278330e-02, 6.31300751e-02,\n",
       "       4.96716109e-02, 4.00999681e-02, 4.39165850e-02, 8.61443903e-02,\n",
       "       3.26377523e-02, 3.63783504e-02, 2.93106362e-02, 1.99905448e-02,\n",
       "       1.35732722e-02, 5.82403721e-03, 1.01286973e-02, 2.55435164e-02,\n",
       "       4.80006370e-02, 3.66908152e-02, 4.46764200e-02, 5.12234778e-02,\n",
       "       1.58621257e-01, 8.96505251e-03, 4.00321330e-02, 3.28420656e-02,\n",
       "       3.37748338e-02, 6.06323842e-02, 0.00000000e+00, 4.86231629e-02,\n",
       "       5.94578475e-02, 4.38739298e-02, 2.97956458e-02, 1.96428447e-02,\n",
       "       2.20763418e-02, 3.33834551e-02, 2.48579205e-02, 4.60578098e-02,\n",
       "       2.23099870e-02, 2.46116522e-02, 7.45550637e-02, 2.30741428e-02,\n",
       "       3.60002266e-02, 6.15272506e-02, 1.69370985e-02, 1.22079738e-02,\n",
       "       3.92807784e-03, 2.11979731e-02, 8.33718188e-02, 8.11140667e-02,\n",
       "       9.11691457e-03, 7.34495949e-02, 8.03874822e-02, 5.65370962e-03,\n",
       "       1.47715438e-02, 9.99663352e-02, 3.38867035e-02, 1.01797404e-01,\n",
       "       1.34619092e-02, 1.71546071e-02, 6.09753467e-02, 4.03988607e-02,\n",
       "       1.38328146e-02, 2.64726444e-02, 3.68882388e-02, 3.82876310e-02,\n",
       "       6.96426842e-02, 4.22326756e-02, 7.16767553e-02, 1.23999588e-02,\n",
       "       4.77139156e-02, 2.07391290e-02, 5.11240316e-02, 0.00000000e+00,\n",
       "       6.28756861e-02, 4.44509460e-02, 1.14009388e-02, 2.80939130e-02,\n",
       "       8.08338112e-02, 1.29180110e-01, 2.93445448e-02, 1.01208750e-02,\n",
       "       5.54073557e-03, 1.36378404e-02, 1.55291108e-02, 7.56378246e-02,\n",
       "       7.25321863e-02, 8.19326855e-03, 5.89635904e-02, 1.86872163e-02,\n",
       "       3.62457866e-02, 1.70268762e-02, 3.47402501e-02, 4.75576393e-02,\n",
       "       2.35520538e-02, 3.81041996e-02, 9.14455741e-02, 3.44374718e-02,\n",
       "       4.20924648e-02, 0.00000000e+00, 7.52079062e-02, 4.91426341e-02,\n",
       "       2.41399170e-02, 2.59870681e-01, 4.12925988e-02, 3.07025388e-03,\n",
       "       1.59084519e-01, 1.83952448e-02, 6.65821982e-02, 1.39233265e-01,\n",
       "       2.77415617e-02, 2.42662644e-02, 4.09988037e-02, 1.23686010e-02,\n",
       "       1.24971236e-01, 4.13874802e-02, 5.17946751e-03, 2.14166669e-02,\n",
       "       6.43748788e-02, 1.65402132e-02, 5.25945423e-02, 4.92827155e-02,\n",
       "       3.65050487e-02, 8.53317430e-02, 1.19572932e-01, 2.52526654e-02,\n",
       "       8.50171179e-02, 7.30231259e-02, 9.92728066e-02, 3.39788083e-03,\n",
       "       9.65550780e-03, 6.09951455e-03, 2.84193450e-02, 3.84764373e-02,\n",
       "       5.36379893e-02, 3.98649635e-02, 3.35168404e-02, 2.73228841e-02,\n",
       "       4.13724367e-02, 9.42525806e-02, 1.49847559e-01, 0.00000000e+00,\n",
       "       6.92568070e-02, 4.95030802e-02, 2.50654388e-02, 0.00000000e+00,\n",
       "       1.69452364e-02, 1.13618888e-02, 1.14125729e-01, 1.68943731e-02,\n",
       "       3.76173563e-02, 3.66646795e-02, 4.62306989e-03, 7.28171093e-02,\n",
       "       2.79642717e-02, 6.32460983e-02, 6.38899870e-02, 2.26819505e-02,\n",
       "       2.92376774e-02, 1.24762834e-01, 2.25578210e-02, 1.74440811e-02,\n",
       "       2.55487255e-02, 1.04533994e-01, 6.49355336e-02, 3.08312170e-02,\n",
       "       9.05061288e-03, 1.99281045e-02, 2.16543875e-02, 9.55043465e-02,\n",
       "       1.01121380e-01, 7.25912372e-02, 7.39100429e-02, 5.10305977e-03,\n",
       "       5.16564060e-02, 3.12119263e-02, 4.83409998e-03, 2.47971161e-02,\n",
       "       8.82657596e-02, 6.40023387e-02, 6.44833493e-02, 4.64757216e-02,\n",
       "       1.38149373e-02, 1.00275341e-01, 1.68638488e-02, 0.00000000e+00,\n",
       "       2.77097470e-02, 6.93752595e-02, 2.56320825e-02, 1.73609581e-02,\n",
       "       4.95830943e-02, 1.73245678e-02, 7.03970536e-02, 1.43260967e-02,\n",
       "       1.25304310e-02, 9.02982910e-02, 1.82285235e-02, 2.60253842e-02,\n",
       "       6.20778068e-02, 4.93876445e-02, 2.25653157e-02, 8.13330828e-02,\n",
       "       8.88052482e-04, 2.88830712e-02, 1.00757234e-01, 4.78674563e-02,\n",
       "       0.00000000e+00, 3.22881235e-02, 3.08577860e-02, 1.94603470e-02,\n",
       "       3.39332530e-02, 4.35192828e-02, 3.38874308e-02, 8.07588810e-03,\n",
       "       6.90321733e-02, 8.86555353e-02, 8.61199426e-02, 3.19177219e-02,\n",
       "       3.61575964e-02, 0.00000000e+00, 1.07859226e-01, 1.29564477e-01,\n",
       "       2.47341960e-02, 1.30628922e-02, 5.45971561e-02, 5.88459590e-02,\n",
       "       1.07668459e-01, 7.97920420e-02, 9.93949099e-02, 1.49658733e-01,\n",
       "       2.16399714e-02, 1.90066068e-02, 0.00000000e+00, 8.27920118e-02,\n",
       "       4.52672668e-02, 7.57991168e-02, 6.30361987e-02, 8.02378978e-02,\n",
       "       0.00000000e+00, 4.29021616e-02, 1.00197877e-01, 6.68287990e-02,\n",
       "       1.00263730e-01, 5.17728982e-02, 6.71589551e-02, 4.37665940e-02,\n",
       "       5.50661959e-02, 2.83479049e-02, 7.36142436e-02, 1.36547010e-03,\n",
       "       2.85463020e-02, 2.02389108e-02, 7.37347414e-03, 1.53695917e-02,\n",
       "       1.71154679e-02, 6.38642492e-02, 2.75339945e-02, 4.67479467e-02,\n",
       "       3.15900133e-01, 1.52739821e-02, 9.21201523e-03, 7.10118499e-02,\n",
       "       7.57581344e-02, 1.58234181e-02, 8.78929135e-02, 2.10820268e-02,\n",
       "       5.61871865e-02, 5.15599628e-02, 3.04904917e-03, 8.49083999e-02,\n",
       "       6.42957756e-02, 5.34549086e-02, 3.92741949e-02, 5.71483295e-02,\n",
       "       4.00783960e-02, 7.66122056e-02, 9.29757313e-02, 2.36563449e-02,\n",
       "       3.67025986e-02, 3.60954220e-02, 1.37915894e-03, 8.23954082e-03,\n",
       "       3.36909048e-02, 1.47016193e-01, 7.33031729e-02, 1.34950988e-02,\n",
       "       1.32870794e-01, 9.56551151e-03, 3.24628796e-03, 1.39005550e-01,\n",
       "       1.50730929e-01, 8.60033237e-03, 4.61354220e-02, 1.67070357e-02,\n",
       "       2.54319479e-02, 1.61105337e-01, 1.73192708e-02, 2.88226034e-02,\n",
       "       5.40921448e-03, 4.14488306e-02, 1.96684227e-03, 5.75218752e-02,\n",
       "       3.62341327e-02, 3.68855562e-02, 3.48245024e-02, 5.06995082e-02,\n",
       "       4.04219248e-02, 1.47429725e-02, 1.78075189e-02, 2.20787291e-02,\n",
       "       2.85721747e-02, 4.60112032e-02, 1.13840314e-01, 4.81771809e-02,\n",
       "       2.30053493e-01, 1.62326056e-01, 1.54016410e-01, 2.31158162e-02,\n",
       "       7.54097903e-03, 1.27332608e-01, 1.40662689e-01, 1.00313437e-02,\n",
       "       5.69047577e-03, 1.25918479e-01, 3.42479389e-02, 1.13925882e-01,\n",
       "       7.07113727e-02, 8.45408459e-02, 8.52581137e-02, 7.65728175e-02,\n",
       "       4.39223405e-02, 4.67110582e-02, 5.79762614e-02, 3.11290033e-02,\n",
       "       3.10037734e-02, 2.32206463e-02, 6.33641078e-03, 1.36126863e-02,\n",
       "       1.58632220e-02, 1.89800526e-02, 3.53805977e-02, 1.41422184e-02,\n",
       "       1.34497971e-01, 2.83435973e-02, 4.69787346e-02, 2.67331170e-02,\n",
       "       5.36872620e-02, 6.65886703e-02, 3.19946230e-02, 7.43914875e-02,\n",
       "       6.71185574e-02, 3.67983673e-02, 1.83380917e-01, 9.62322321e-02,\n",
       "       9.00904191e-03, 3.32808440e-02, 8.66539431e-02, 2.73506309e-03,\n",
       "       2.04918702e-01, 0.00000000e+00, 3.95382484e-02, 7.92262306e-02,\n",
       "       1.85574962e-02, 2.91831492e-02, 3.34048446e-02, 5.94609856e-02,\n",
       "       3.79086387e-02, 1.60681493e-01, 2.04440997e-02, 5.32085225e-02,\n",
       "       1.33666325e-02, 5.39920973e-02, 3.50010268e-02, 1.82170729e-02,\n",
       "       4.28656301e-02, 7.41081464e-02, 6.26382691e-02, 3.89895215e-02,\n",
       "       1.93745275e-02, 1.26275179e-02, 1.39059681e-01, 2.61906295e-02,\n",
       "       4.93011991e-02, 7.64834044e-02, 4.87006654e-03, 5.53455918e-02,\n",
       "       7.44805768e-02, 6.06451613e-02, 1.16475729e-01, 3.29750987e-02,\n",
       "       5.62940355e-02, 4.26317652e-03, 4.00613211e-02, 2.02378993e-01,\n",
       "       4.57697640e-02, 7.52508761e-03, 1.35253641e-01, 5.76703952e-02,\n",
       "       8.10314662e-02, 3.02195274e-03, 1.30222187e-02, 6.43961272e-02,\n",
       "       5.07539712e-02, 5.03472980e-02, 4.44722347e-02, 2.87719427e-02,\n",
       "       6.78710055e-02, 3.49339555e-02, 3.46978314e-02, 3.16680424e-02,\n",
       "       3.46143026e-02, 2.80207122e-02, 1.23759942e-01, 3.00780571e-02,\n",
       "       2.34711742e-02, 9.39752764e-02, 2.80007354e-03, 6.63647554e-02,\n",
       "       4.87389406e-02, 6.33311716e-02, 2.31972395e-01, 0.00000000e+00,\n",
       "       4.70357659e-02, 5.23448885e-02, 6.65056585e-02, 3.34143262e-02,\n",
       "       4.90249954e-02, 0.00000000e+00, 2.74735022e-02, 4.66537759e-02,\n",
       "       4.74701511e-02, 3.14215350e-02, 1.10399330e-01, 7.10754720e-03,\n",
       "       1.92397091e-02, 4.53690470e-02, 1.14310896e-02, 2.27056202e-02,\n",
       "       2.95219674e-02, 3.34755074e-02, 1.96747558e-02, 2.71678905e-02,\n",
       "       4.32434946e-03, 1.58088756e-01, 6.88771096e-02, 1.03226363e-01,\n",
       "       3.18217776e-02, 2.75277969e-02, 1.99970412e-02, 7.92824983e-03,\n",
       "       8.59222356e-02, 3.87652223e-02, 2.82366536e-02, 2.27217680e-02,\n",
       "       0.00000000e+00, 3.83557214e-02, 8.87091873e-02, 2.12806459e-02,\n",
       "       3.52866106e-02, 1.60530331e-02, 9.86251250e-03, 3.46257375e-02,\n",
       "       2.16983571e-02, 2.02003294e-02, 9.00129433e-03, 0.00000000e+00,\n",
       "       2.38478741e-02, 7.34343166e-03, 2.64669590e-02, 3.24444020e-02,\n",
       "       2.82061580e-02, 2.49113023e-02, 5.16334090e-03, 6.42748269e-03,\n",
       "       2.72962819e-02, 2.19762661e-02, 1.17805949e-02, 1.54689792e-03,\n",
       "       2.47062282e-02, 6.19433467e-02, 3.29847377e-02, 1.22478677e-02,\n",
       "       8.73261820e-03, 1.14532053e-01, 1.13007805e-01, 6.00597923e-02,\n",
       "       2.80150525e-02, 1.10820720e-01, 4.11684728e-02, 3.63560902e-02,\n",
       "       9.15307598e-03, 8.59107153e-02, 3.54132842e-02, 1.39736027e-02,\n",
       "       7.48417565e-02, 7.15722282e-03, 3.96539731e-02, 4.47468026e-02,\n",
       "       6.03323096e-02, 2.59749330e-02, 9.29482642e-03, 1.04313611e-02,\n",
       "       1.02301550e-02, 6.21355512e-03, 2.41817034e-03, 1.23265214e-02,\n",
       "       5.99385217e-02, 2.96788716e-02, 9.52479115e-02, 4.28601564e-02,\n",
       "       6.97925171e-02, 1.16975028e-02, 2.94726836e-02, 2.26428485e-02,\n",
       "       3.77972723e-02, 3.28227503e-02, 3.35911257e-02, 2.62590840e-02,\n",
       "       0.00000000e+00, 3.19607270e-02, 2.08045955e-02, 7.96263303e-02,\n",
       "       5.31131357e-02, 1.44217239e-01, 7.39935726e-03, 8.64388434e-03,\n",
       "       9.53579234e-03, 2.08554794e-02, 1.39049765e-02, 3.32220510e-02,\n",
       "       1.23964475e-01, 4.19673304e-02, 1.20838620e-02, 1.14083315e-01,\n",
       "       3.19467501e-02, 1.67992337e-02, 5.25779312e-02, 5.87390490e-02,\n",
       "       7.00022498e-02, 1.76609216e-02, 1.70534458e-02, 1.33841660e-02,\n",
       "       7.91037013e-02, 2.56648376e-02, 3.66627143e-02, 6.66106270e-02,\n",
       "       1.94894593e-02, 5.75236289e-03, 1.09370491e-01, 1.00518309e-01,\n",
       "       1.82793072e-02, 1.06632546e-01, 6.53026387e-02, 2.62975516e-02,\n",
       "       4.92727980e-02, 4.39692814e-02, 1.74054948e-02, 4.99315807e-02,\n",
       "       2.39856137e-02, 3.06711096e-02, 8.34657649e-03, 1.12562587e-02,\n",
       "       1.10258721e-02, 8.80474979e-02, 5.29209994e-02, 1.74742198e-01,\n",
       "       7.10988470e-02, 2.20941418e-03, 1.78681942e-02, 2.66076603e-02,\n",
       "       7.17658444e-02, 4.35934982e-02, 8.53668432e-02, 0.00000000e+00,\n",
       "       1.36854652e-02, 5.43323619e-02, 1.73529216e-03, 2.53222906e-02,\n",
       "       4.01095987e-02, 6.72434169e-03, 1.67545248e-02, 5.09779199e-02,\n",
       "       6.44882257e-02, 1.25784489e-01, 2.20829311e-02, 5.71123313e-02,\n",
       "       1.10312568e-01, 1.97224979e-02, 0.00000000e+00, 2.98901453e-02,\n",
       "       8.45785166e-02, 1.86596046e-02, 1.30497227e-02, 2.36137391e-02,\n",
       "       1.31568758e-02, 2.62716853e-02, 9.84005817e-03, 9.74786302e-02,\n",
       "       1.97530309e-02, 5.88640514e-02, 4.85693312e-02, 4.90491449e-02,\n",
       "       5.20760724e-04, 2.14153533e-02, 1.96987985e-02, 1.76869044e-01,\n",
       "       1.14153074e-01, 6.54716189e-02, 9.72850356e-03, 2.91977110e-02,\n",
       "       1.93852441e-02, 5.89731445e-02, 8.34445982e-02, 7.34848974e-02,\n",
       "       5.30254536e-03, 8.43042747e-02, 2.44590122e-02, 7.37296464e-02,\n",
       "       5.27324935e-02, 1.27541858e-02, 1.47584197e-01, 1.46795664e-02])"
      ]
     },
     "execution_count": 58,
     "metadata": {},
     "output_type": "execute_result"
    }
   ],
   "source": [
    "similar[0]"
   ]
  },
  {
   "cell_type": "code",
   "execution_count": 59,
   "metadata": {},
   "outputs": [],
   "source": [
    "def recommend(song_name):\n",
    "    if song_name not in df[\"song\"].values:\n",
    "        return f\"'{song_name}' not found in the dataset. Please check the spelling or try another song.\"\n",
    "    \n",
    "    idx = df[df[\"song\"] == song_name].index[0]\n",
    "    distances = sorted(list(enumerate(similar[idx])), reverse=True, key=lambda x: x[1])\n",
    "    songs = []\n",
    "    for i in distances[1:5]:  # Get the top 4 recommendations (excluding the song itself)\n",
    "        songs.append(df.iloc[i[0]].song)\n",
    "    return songs\n"
   ]
  },
  {
   "cell_type": "code",
   "execution_count": 60,
   "metadata": {},
   "outputs": [
    {
     "data": {
      "text/plain": [
       "\"'Truck' not found in the dataset. Please check the spelling or try another song.\""
      ]
     },
     "execution_count": 60,
     "metadata": {},
     "output_type": "execute_result"
    }
   ],
   "source": [
    "recommend('Truck')"
   ]
  },
  {
   "cell_type": "code",
   "execution_count": 61,
   "metadata": {},
   "outputs": [],
   "source": [
    "import pickle"
   ]
  },
  {
   "cell_type": "code",
   "execution_count": 62,
   "metadata": {},
   "outputs": [],
   "source": [
    "pickle.dump(similar,open(\"similarity\",\"wb\"))"
   ]
  },
  {
   "cell_type": "code",
   "execution_count": 63,
   "metadata": {},
   "outputs": [],
   "source": [
    "pickle.dump(similar, open(\"similarity.pkl\", \"wb\"))"
   ]
  },
  {
   "cell_type": "code",
   "execution_count": 64,
   "metadata": {},
   "outputs": [],
   "source": [
    "import pickle\n",
    "\n",
    "def show_recommendations(selected_song):\n",
    "    # Load data\n",
    "    with open('df.pkl', 'rb') as f:\n",
    "        df = pickle.load(f)\n",
    "    with open('similarity.pkl', 'rb') as f:\n",
    "        similarity = pickle.load(f)\n",
    "    \n",
    "    # Find index of selected song\n",
    "    idx = df[df[\"song\"] == selected_song].index[0]\n",
    "    \n",
    "    # Get similarity scores\n",
    "    distances = sorted(list(enumerate(similarity[idx])), reverse=True, key=lambda x: x[1])\n",
    "    \n",
    "    # Get recommended songs (excluding the selected song itself)\n",
    "    recommended_songs = []\n",
    "    for i in distances[1:6]:  # Top 5 recommendations\n",
    "        recommended_songs.append(df.iloc[i[0]]['song'])\n",
    "    \n",
    "    # Display recommendations\n",
    "    st.header(f'Recommended Songs for {selected_song}')\n",
    "    for song in recommended_songs:\n",
    "        st.write(song)\n",
    "\n",
    "# Example usage:\n",
    "# show_recommendations(\"America\")}"
   ]
  },
  {
   "cell_type": "code",
   "execution_count": null,
   "metadata": {},
   "outputs": [],
   "source": []
  }
 ],
 "metadata": {
  "kernelspec": {
   "display_name": "base",
   "language": "python",
   "name": "python3"
  },
  "language_info": {
   "codemirror_mode": {
    "name": "ipython",
    "version": 3
   },
   "file_extension": ".py",
   "mimetype": "text/x-python",
   "name": "python",
   "nbconvert_exporter": "python",
   "pygments_lexer": "ipython3",
   "version": "3.11.5"
  }
 },
 "nbformat": 4,
 "nbformat_minor": 2
}
